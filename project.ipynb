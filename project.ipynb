{
 "cells": [
  {
   "cell_type": "markdown",
   "metadata": {},
   "source": [
    "<h1>Predicting game prices</h1>\n",
    "<h5 style=\"margin-left: 2rem\">By: Elad Ben-Haim, Shalev Hadar</h5>\n",
    "<br/>\n",
    "<br/>"
   ]
  },
  {
   "cell_type": "markdown",
   "metadata": {},
   "source": [
    "<h4>נושא המחקר</h4>\n",
    "<table dir=\"rtl\">\n",
    "    <tr>\n",
    "        <th>\n",
    "            נושא המחקר\n",
    "        </th>\n",
    "        <th>\n",
    "            פירוט הנושא\n",
    "        </th>\n",
    "    </tr>\n",
    "    <tr>\n",
    "        <td>\n",
    "        האם ניתן לחזות מחיר של משחק בעוד x זמן?\n",
    "        </td>\n",
    "        <td>\n",
    "        מתי הכי ישתלם לקנות את המשחק בעתיד\n",
    "        </td>\n",
    "    </tr>\n",
    "    <tr>\n",
    "        <td>\n",
    "        האם ניתן לחזור מתי למוכר הכי משתלם לעשות מבצע על המשחק?\n",
    "        </td>\n",
    "        <td>\n",
    "        מתי הכי כדאי למוכר לעשות מבצע כדי להביא עוד שחקנים ולהמשיך למכור עם הרווח הגדול ביותר\n",
    "        </td>\n",
    "    </tr>\n",
    "</table>\n",
    "<br/>"
   ]
  },
  {
   "cell_type": "markdown",
   "metadata": {},
   "source": [
    "<br/>"
   ]
  },
  {
   "cell_type": "markdown",
   "metadata": {},
   "source": [
    "<h4>נתוני המחקר ודרכי ניתוח</h4>\n",
    "<table dir=\"rtl\">\n",
    "    <tr>\n",
    "        <th>\n",
    "            נתוני המחקר & דרכי ניתוח\n",
    "        </th>\n",
    "        <th>\n",
    "             ואיך ננתח אותם\n",
    "        </th>\n",
    "    </tr>\n",
    "    <tr>\n",
    "        <td>\n",
    "\t\tפירוט הנתונים: פרטים פיננסיים הוא נמכר בזמן X ואז לחזות בכמה הוא ימכר בזמן Y ובנוסף פרטים על המשחק - כמו שם, ז'אנר פופולריות וכו'.\n",
    "        </td>\n",
    "        <td>\n",
    "            <p style=\"font-size: 1.1rem\">\n",
    "                נשתמש ב-Crawling על אתר isThereAnyDeal(Fig.3)<br/>\n",
    "                כדי לא לקבל הודעת שגיאה על שימוש יתר, נשתמש ב-PROXY כדי לא להחסם ע\"י isThereAnyDeal<br/>\n",
    "                ונייבא משם את כל המידע הדרוש כדי לחזות את המחיר של משחק בעוד X זמן מסוים.<br/>\n",
    "                ראינו שלכל משחק קיים באיזור ה1000+ (Fig.2) רשומות של log (Fig.1) של המחיר שלו ביחס לזמן, ולחנות בה הוא נמכר ואת העלייה\\ירידה במחיר של המשחק ביחד ללוג הקודם.<br/>\n",
    "                בעזרת STEAM API נוציא את ז'אנר המשחק, שנת הייצור ועוד פרטים מורכבים יותר על המשחק עצמו<br/>\n",
    "                ולבסוף נצרף לכל לוג את פרטי המשחק ונקבל Dataset בגודל n = כמות המשחקים, x = כמות הלוגים, כלומר n*x<br/>\n",
    "                אנחנו מעוניינים כרגע לקחת את 100 המשחקים הראשונים ולפי מה שראינו כמות הלוגים בדרך כלל היא לפחות 1000 אז נקבל בסביבות ה100,000+ רשומות.<br/>\n",
    "            </p>\n",
    "        </td>\n",
    "    </tr>\n",
    "    <tr>\n",
    "        <td>\n",
    "\t\tדרכי ניתוח: נשתמש בכלים שלמדנו במהלך הקורס לעבד\\ללמוד מהנתונים כמה מידע שאנו צריכים למטרה זו\n",
    "        </td>\n",
    "        <td>\n",
    "            <p style=\"font-size: 1.1rem\">\n",
    "                ננתח את הDataFrame, בעזרת טבלאות יחסי משתנים, סטטיסטיקות, ולבסוף ננסה ללמד מכונה שתחזה את התאריך של המחיר הזול ביותר בשנה מסוימת, ואת המחיר אשר יביא את כמות המכירות הגדול ביותר\n",
    "            </p>\n",
    "        </td>\n",
    "    </tr>\n",
    "</table>\n",
    "<br/>\n",
    "<table style=\"width:100%;grid-template-rows: 1fr 1fr 1fr;\">\n",
    "<tr>\n",
    "    <td>\n",
    "        <figure>\n",
    "            <img src=\"images\\log_table_for_ds3.png\" alt=\"Is there any deal log table\">\n",
    "            <figcaption>Fig.1 - The main crawled data source</figcaption>\n",
    "        </figure>\n",
    "    </td>\n",
    "    <td>\n",
    "        <figure>\n",
    "            <img src=\"images\\number_of_logs_for_ds3.png\" alt=\"Example for number of rows in a typical game\">\n",
    "            <figcaption>Fig.2 - Example for number of rows in a typical game (Dark souls 3) </figcaption>\n",
    "        </figure>\n",
    "    </td>\n",
    "    <td>\n",
    "        <figure>\n",
    "            <img src=\"images\\is_there_any_deal_site_example_ds3.png\" alt=\"Is there any deal game page\">\n",
    "            <figcaption>Fig.3 - IsThereAnyDeal game page</figcaption>\n",
    "        </figure>\n",
    "    </td>\n",
    "</tr>"
   ]
  },
  {
   "cell_type": "markdown",
   "metadata": {},
   "source": [
    "<h4>Importing</h6>"
   ]
  },
  {
   "cell_type": "code",
   "execution_count": 52,
   "metadata": {},
   "outputs": [],
   "source": [
    "import requests\n",
    "import bs4\n",
    "from bs4 import BeautifulSoup\n",
    "import random\n",
    "import itertools\n",
    "import re\n",
    "import pandas as pd\n",
    "from pandas import DataFrame\n",
    "import time\n",
    "import datetime\n",
    "import os.path\n",
    "\n"
   ]
  },
  {
   "cell_type": "markdown",
   "metadata": {},
   "source": [
    "<h4>Global functions</h4>"
   ]
  },
  {
   "cell_type": "code",
   "execution_count": 7,
   "metadata": {},
   "outputs": [],
   "source": [
    "def get_html_response(url: str, proxy: str = None, params: list = None) -> requests.Response:\n",
    "    time.sleep(1)\n",
    "    if (proxy is not None):\n",
    "        return requests.get(url, proxies={\"http\": proxy, \"https\":proxy}, params=params)\n",
    "    else:\n",
    "        return requests.get(url, params=params)\n",
    "\n",
    "def get_response_as_beautiful_soup(req: requests.Response) -> BeautifulSoup:\n",
    "    return BeautifulSoup(req.text, 'html.parser')"
   ]
  },
  {
   "cell_type": "markdown",
   "metadata": {},
   "source": [
    "<br/>"
   ]
  },
  {
   "cell_type": "markdown",
   "metadata": {},
   "source": [
    "<h4>Defining proxies for scraping</h4>"
   ]
  },
  {
   "cell_type": "markdown",
   "metadata": {},
   "source": [
    "<h5>Get proxy list response html website</h5>\n",
    "<h6>get the html as response object instead of getting the html again and again</h6>"
   ]
  },
  {
   "cell_type": "code",
   "execution_count": 8,
   "metadata": {},
   "outputs": [],
   "source": [
    "# Get the html of the proxy list website\n",
    "def get_proxy_list_html() -> requests.Response:\n",
    "    # Website to get free proxies\n",
    "    return get_html_response('https://free-proxy-list.net/')"
   ]
  },
  {
   "cell_type": "code",
   "execution_count": 9,
   "metadata": {},
   "outputs": [],
   "source": [
    "proxies_response = get_proxy_list_html()"
   ]
  },
  {
   "cell_type": "markdown",
   "metadata": {},
   "source": [
    "<h5>Scrape proxy ip addresses</h5>\n",
    "<h6>gets the ip addresses as a list, shuffles them and returns an iterator to cycle through when making scrape requests</h6>"
   ]
  },
  {
   "cell_type": "code",
   "execution_count": 10,
   "metadata": {},
   "outputs": [],
   "source": [
    "def get_proxy_list() -> itertools.cycle:\n",
    "    soup = get_response_as_beautiful_soup(proxies_response)\n",
    "    proxy_soup_list = soup.select('#list > div > div.table-responsive > div > table > tbody > tr')\n",
    "    proxy_list = list(map(lambda i: i.select('td:nth-child(1)')[0].text + ':' + i.select('td:nth-child(2)')[0].text, proxy_soup_list))\n",
    "    length = len(proxy_list)\n",
    "    random.shuffle(proxy_list)\n",
    "    return itertools.cycle(proxy_list), length"
   ]
  },
  {
   "cell_type": "code",
   "execution_count": 11,
   "metadata": {},
   "outputs": [],
   "source": [
    "proxy_list, proxy_list_length = get_proxy_list()\n",
    "current_proxy = next(proxy_list)"
   ]
  },
  {
   "cell_type": "code",
   "execution_count": 12,
   "metadata": {},
   "outputs": [],
   "source": [
    "def get_proxied(url: str, params: list = None) -> requests.Response:\n",
    "    i = 0\n",
    "    while(i < proxy_list_length / 2):\n",
    "        try:\n",
    "            response = get_html_response(url, current_proxy, params=params)\n",
    "            time.sleep(2)\n",
    "            return response\n",
    "        except:\n",
    "            i += 1\n",
    "        finally:\n",
    "            current_proxy = next(proxy_list)\n",
    "\n",
    "    raise RuntimeError('Half of the proxies provided don`t work.')"
   ]
  },
  {
   "cell_type": "markdown",
   "metadata": {},
   "source": [
    "<br/>"
   ]
  },
  {
   "cell_type": "markdown",
   "metadata": {},
   "source": [
    "<h4>Scrape isThereAnyDeal website</h4>\n",
    "<h6>Steps:</h6>\n",
    "<ol>\n",
    "<li>Crawl list of top 100 trending games</li>\n",
    "<li>For each game:</li>\n",
    "<ul>\n",
    "    <li>get the game details from steam API using \"appId\" scraped either from PC Gaming Wiki or Steam Ladder links</li>\n",
    "    <li>mine price Log history on isThereAnyDeal</li>\n",
    "    <li>mine Number of sales of the game</li>\n",
    "<ul>\n",
    "</ol>"
   ]
  },
  {
   "cell_type": "code",
   "execution_count": 13,
   "metadata": {},
   "outputs": [],
   "source": [
    "is_there_any_deal_url = 'https://isthereanydeal.com'\n",
    "steam_api_url = 'https://store.steampowered.com/api/appdetails'"
   ]
  },
  {
   "cell_type": "markdown",
   "metadata": {},
   "source": [
    "<h5>Get list of 100 top trending games</h5>"
   ]
  },
  {
   "cell_type": "code",
   "execution_count": 14,
   "metadata": {},
   "outputs": [],
   "source": [
    "def get_is_there_any_deal_games_response() -> requests.Response:\n",
    "    #filteredUrl = 'https://isthereanydeal.com/?by=trending:desc#/filter:&pl/windows,&drm/steam,steam,-dlc,-type/6,-type/8,-type/7,&releaseyear/2015/2020;/options:all'\n",
    "    filteredUrl = 'https://isthereanydeal.com/'\n",
    "    return get_html_response(filteredUrl)"
   ]
  },
  {
   "cell_type": "code",
   "execution_count": 15,
   "metadata": {},
   "outputs": [
    {
     "name": "stdout",
     "output_type": "stream",
     "text": [
      "<Response [200]>\n"
     ]
    }
   ],
   "source": [
    "is_there_any_deal_games_response = get_is_there_any_deal_games_response()\n",
    "print(is_there_any_deal_games_response)"
   ]
  },
  {
   "cell_type": "code",
   "execution_count": 16,
   "metadata": {},
   "outputs": [],
   "source": [
    "def add_game_to_dataframe(df: DataFrame, game: dict) -> DataFrame:\n",
    "    return df.append(DataFrame([game]), ignore_index=True)"
   ]
  },
  {
   "cell_type": "code",
   "execution_count": 17,
   "metadata": {},
   "outputs": [],
   "source": [
    "def get_steam_api_game_response(steamId: str) -> requests.Response:\n",
    "    return get_html_response(steam_api_url, params={'appids': steamId})"
   ]
  },
  {
   "cell_type": "code",
   "execution_count": 18,
   "metadata": {},
   "outputs": [],
   "source": [
    "def delete_if_exists(d: dict, *keys: list) -> dict:\n",
    "    for key in keys:\n",
    "        if d.get(key) is not None:\n",
    "            del d[key]\n",
    "    return d"
   ]
  },
  {
   "cell_type": "code",
   "execution_count": 19,
   "metadata": {},
   "outputs": [],
   "source": [
    "def get_steam_api_game_details(steamId: str) -> dict:\n",
    "    data = get_steam_api_game_response(steamId).json()\n",
    "    if data.get(steamId) is None or data.get(steamId).get('data') is None:\n",
    "        return {}\n",
    "    data = data[steamId]['data']\n",
    "\n",
    "    if data.get('categories') is not None:\n",
    "        for category in data['categories']:\n",
    "            data['category.'+str(category['id'])]=True\n",
    "        del data['categories']\n",
    "    \n",
    "    if data.get('genres') is not None:\n",
    "        for genre in data['genres']:\n",
    "            data['genre.'+str(genre['id'])]=True\n",
    "        del data['genres']\n",
    "    \n",
    "    if data.get('developers') is not None:\n",
    "        for developer in data['developers']:\n",
    "            data[f'developer.' + developer.strip().replace(' ', '_')]=True\n",
    "        del data['developers']\n",
    "    \n",
    "    if data.get('publishers') is not None:\n",
    "        for publisher in data['publishers']:\n",
    "            data[f'publisher.' + publisher.strip().replace(' ', '_')]=True\n",
    "        del data['publishers']\n",
    "        \n",
    "    if data.get('supported_languages') is not None:\n",
    "        for language in data['supported_languages']\\\n",
    "                            .replace('<strong>*</strong>', '')\\\n",
    "                            .replace('<br/>', '')\\\n",
    "                            .replace('<br>', '')\\\n",
    "                            .replace('languages with full audio support', '')\\\n",
    "                            .split(','):\n",
    "            data[f'supported_language.' + language.strip().replace(' ', '_')]=True\n",
    "        del data['supported_languages']\n",
    "\n",
    "    return data"
   ]
  },
  {
   "cell_type": "markdown",
   "metadata": {},
   "source": [
    "<img style=\"width: 50%\" src=\"images/steam_api_response.png\"/>"
   ]
  },
  {
   "cell_type": "code",
   "execution_count": 20,
   "metadata": {},
   "outputs": [],
   "source": [
    "def get_game_dataframe():\n",
    "    soup = get_response_as_beautiful_soup(is_there_any_deal_games_response)\n",
    "    df = DataFrame()\n",
    "    games = soup.select(\"#games > div.game\")\n",
    "    game_dict = dict()\n",
    "    for game in games:\n",
    "        steamId = game.attrs.get('data-steamid')\n",
    "        if steamId is not None:\n",
    "            steamId: str\n",
    "            if 'app' in steamId:\n",
    "                steamId = steamId.split('/')[1]\n",
    "                title = game.select(\"div.title > a\")[0].text\n",
    "                history = game.select(\"div.overview.exp.tgl-hide > a:nth-child(5)\")[0].attrs.get('href')\n",
    "                game_details = get_steam_api_game_details(steamId)\n",
    "                if game_details == {}: continue\n",
    "                df = add_game_to_dataframe(df, {'steamId': steamId, 'title': title, 'history_link': is_there_any_deal_url + history, **game_details})\n",
    "    return df"
   ]
  },
  {
   "cell_type": "code",
   "execution_count": 21,
   "metadata": {},
   "outputs": [
    {
     "ename": "KeyboardInterrupt",
     "evalue": "",
     "output_type": "error",
     "traceback": [
      "\u001b[1;31m---------------------------------------------------------------------------\u001b[0m",
      "\u001b[1;31mKeyboardInterrupt\u001b[0m                         Traceback (most recent call last)",
      "\u001b[1;32m~\\AppData\\Local\\Temp/ipykernel_10816/3241516803.py\u001b[0m in \u001b[0;36m<module>\u001b[1;34m\u001b[0m\n\u001b[1;32m----> 1\u001b[1;33m \u001b[0mgames_dataframe\u001b[0m \u001b[1;33m=\u001b[0m \u001b[0mget_game_dataframe\u001b[0m\u001b[1;33m(\u001b[0m\u001b[1;33m)\u001b[0m\u001b[1;33m\u001b[0m\u001b[1;33m\u001b[0m\u001b[0m\n\u001b[0m\u001b[0;32m      2\u001b[0m \u001b[0mgames_dataframe\u001b[0m\u001b[1;33m.\u001b[0m\u001b[0mto_csv\u001b[0m\u001b[1;33m(\u001b[0m\u001b[1;34m'games_dataframe.csv'\u001b[0m\u001b[1;33m)\u001b[0m\u001b[1;33m\u001b[0m\u001b[1;33m\u001b[0m\u001b[0m\n\u001b[0;32m      3\u001b[0m \u001b[0mgames_dataframe\u001b[0m\u001b[1;33m\u001b[0m\u001b[1;33m\u001b[0m\u001b[0m\n",
      "\u001b[1;32m~\\AppData\\Local\\Temp/ipykernel_10816/3747439915.py\u001b[0m in \u001b[0;36mget_game_dataframe\u001b[1;34m()\u001b[0m\n\u001b[0;32m     12\u001b[0m                 \u001b[0mtitle\u001b[0m \u001b[1;33m=\u001b[0m \u001b[0mgame\u001b[0m\u001b[1;33m.\u001b[0m\u001b[0mselect\u001b[0m\u001b[1;33m(\u001b[0m\u001b[1;34m\"div.title > a\"\u001b[0m\u001b[1;33m)\u001b[0m\u001b[1;33m[\u001b[0m\u001b[1;36m0\u001b[0m\u001b[1;33m]\u001b[0m\u001b[1;33m.\u001b[0m\u001b[0mtext\u001b[0m\u001b[1;33m\u001b[0m\u001b[1;33m\u001b[0m\u001b[0m\n\u001b[0;32m     13\u001b[0m                 \u001b[0mhistory\u001b[0m \u001b[1;33m=\u001b[0m \u001b[0mgame\u001b[0m\u001b[1;33m.\u001b[0m\u001b[0mselect\u001b[0m\u001b[1;33m(\u001b[0m\u001b[1;34m\"div.overview.exp.tgl-hide > a:nth-child(5)\"\u001b[0m\u001b[1;33m)\u001b[0m\u001b[1;33m[\u001b[0m\u001b[1;36m0\u001b[0m\u001b[1;33m]\u001b[0m\u001b[1;33m.\u001b[0m\u001b[0mattrs\u001b[0m\u001b[1;33m.\u001b[0m\u001b[0mget\u001b[0m\u001b[1;33m(\u001b[0m\u001b[1;34m'href'\u001b[0m\u001b[1;33m)\u001b[0m\u001b[1;33m\u001b[0m\u001b[1;33m\u001b[0m\u001b[0m\n\u001b[1;32m---> 14\u001b[1;33m                 \u001b[0mgame_details\u001b[0m \u001b[1;33m=\u001b[0m \u001b[0mget_steam_api_game_details\u001b[0m\u001b[1;33m(\u001b[0m\u001b[0msteamId\u001b[0m\u001b[1;33m)\u001b[0m\u001b[1;33m\u001b[0m\u001b[1;33m\u001b[0m\u001b[0m\n\u001b[0m\u001b[0;32m     15\u001b[0m                 \u001b[1;32mif\u001b[0m \u001b[0mgame_details\u001b[0m \u001b[1;33m==\u001b[0m \u001b[1;33m{\u001b[0m\u001b[1;33m}\u001b[0m\u001b[1;33m:\u001b[0m \u001b[1;32mcontinue\u001b[0m\u001b[1;33m\u001b[0m\u001b[1;33m\u001b[0m\u001b[0m\n\u001b[0;32m     16\u001b[0m                 \u001b[0mdf\u001b[0m \u001b[1;33m=\u001b[0m \u001b[0madd_game_to_dataframe\u001b[0m\u001b[1;33m(\u001b[0m\u001b[0mdf\u001b[0m\u001b[1;33m,\u001b[0m \u001b[1;33m{\u001b[0m\u001b[1;34m'steamId'\u001b[0m\u001b[1;33m:\u001b[0m \u001b[0msteamId\u001b[0m\u001b[1;33m,\u001b[0m \u001b[1;34m'title'\u001b[0m\u001b[1;33m:\u001b[0m \u001b[0mtitle\u001b[0m\u001b[1;33m,\u001b[0m \u001b[1;34m'history_link'\u001b[0m\u001b[1;33m:\u001b[0m \u001b[0mis_there_any_deal_url\u001b[0m \u001b[1;33m+\u001b[0m \u001b[0mhistory\u001b[0m\u001b[1;33m,\u001b[0m \u001b[1;33m**\u001b[0m\u001b[0mgame_details\u001b[0m\u001b[1;33m}\u001b[0m\u001b[1;33m)\u001b[0m\u001b[1;33m\u001b[0m\u001b[1;33m\u001b[0m\u001b[0m\n",
      "\u001b[1;32m~\\AppData\\Local\\Temp/ipykernel_10816/1207840890.py\u001b[0m in \u001b[0;36mget_steam_api_game_details\u001b[1;34m(steamId)\u001b[0m\n\u001b[0;32m      1\u001b[0m \u001b[1;32mdef\u001b[0m \u001b[0mget_steam_api_game_details\u001b[0m\u001b[1;33m(\u001b[0m\u001b[0msteamId\u001b[0m\u001b[1;33m:\u001b[0m \u001b[0mstr\u001b[0m\u001b[1;33m)\u001b[0m \u001b[1;33m->\u001b[0m \u001b[0mdict\u001b[0m\u001b[1;33m:\u001b[0m\u001b[1;33m\u001b[0m\u001b[1;33m\u001b[0m\u001b[0m\n\u001b[1;32m----> 2\u001b[1;33m     \u001b[0mdata\u001b[0m \u001b[1;33m=\u001b[0m \u001b[0mget_steam_api_game_response\u001b[0m\u001b[1;33m(\u001b[0m\u001b[0msteamId\u001b[0m\u001b[1;33m)\u001b[0m\u001b[1;33m.\u001b[0m\u001b[0mjson\u001b[0m\u001b[1;33m(\u001b[0m\u001b[1;33m)\u001b[0m\u001b[1;33m\u001b[0m\u001b[1;33m\u001b[0m\u001b[0m\n\u001b[0m\u001b[0;32m      3\u001b[0m     \u001b[1;32mif\u001b[0m \u001b[0mdata\u001b[0m\u001b[1;33m.\u001b[0m\u001b[0mget\u001b[0m\u001b[1;33m(\u001b[0m\u001b[0msteamId\u001b[0m\u001b[1;33m)\u001b[0m \u001b[1;32mis\u001b[0m \u001b[1;32mNone\u001b[0m \u001b[1;32mor\u001b[0m \u001b[0mdata\u001b[0m\u001b[1;33m.\u001b[0m\u001b[0mget\u001b[0m\u001b[1;33m(\u001b[0m\u001b[0msteamId\u001b[0m\u001b[1;33m)\u001b[0m\u001b[1;33m.\u001b[0m\u001b[0mget\u001b[0m\u001b[1;33m(\u001b[0m\u001b[1;34m'data'\u001b[0m\u001b[1;33m)\u001b[0m \u001b[1;32mis\u001b[0m \u001b[1;32mNone\u001b[0m\u001b[1;33m:\u001b[0m\u001b[1;33m\u001b[0m\u001b[1;33m\u001b[0m\u001b[0m\n\u001b[0;32m      4\u001b[0m         \u001b[1;32mreturn\u001b[0m \u001b[1;33m{\u001b[0m\u001b[1;33m}\u001b[0m\u001b[1;33m\u001b[0m\u001b[1;33m\u001b[0m\u001b[0m\n\u001b[0;32m      5\u001b[0m     \u001b[0mdata\u001b[0m \u001b[1;33m=\u001b[0m \u001b[0mdata\u001b[0m\u001b[1;33m[\u001b[0m\u001b[0msteamId\u001b[0m\u001b[1;33m]\u001b[0m\u001b[1;33m[\u001b[0m\u001b[1;34m'data'\u001b[0m\u001b[1;33m]\u001b[0m\u001b[1;33m\u001b[0m\u001b[1;33m\u001b[0m\u001b[0m\n",
      "\u001b[1;32m~\\AppData\\Local\\Temp/ipykernel_10816/421984034.py\u001b[0m in \u001b[0;36mget_steam_api_game_response\u001b[1;34m(steamId)\u001b[0m\n\u001b[0;32m      1\u001b[0m \u001b[1;32mdef\u001b[0m \u001b[0mget_steam_api_game_response\u001b[0m\u001b[1;33m(\u001b[0m\u001b[0msteamId\u001b[0m\u001b[1;33m:\u001b[0m \u001b[0mstr\u001b[0m\u001b[1;33m)\u001b[0m \u001b[1;33m->\u001b[0m \u001b[0mrequests\u001b[0m\u001b[1;33m.\u001b[0m\u001b[0mResponse\u001b[0m\u001b[1;33m:\u001b[0m\u001b[1;33m\u001b[0m\u001b[1;33m\u001b[0m\u001b[0m\n\u001b[1;32m----> 2\u001b[1;33m     \u001b[1;32mreturn\u001b[0m \u001b[0mget_html_response\u001b[0m\u001b[1;33m(\u001b[0m\u001b[0msteam_api_url\u001b[0m\u001b[1;33m,\u001b[0m \u001b[0mparams\u001b[0m\u001b[1;33m=\u001b[0m\u001b[1;33m{\u001b[0m\u001b[1;34m'appids'\u001b[0m\u001b[1;33m:\u001b[0m \u001b[0msteamId\u001b[0m\u001b[1;33m}\u001b[0m\u001b[1;33m)\u001b[0m\u001b[1;33m\u001b[0m\u001b[1;33m\u001b[0m\u001b[0m\n\u001b[0m",
      "\u001b[1;32m~\\AppData\\Local\\Temp/ipykernel_10816/1491349413.py\u001b[0m in \u001b[0;36mget_html_response\u001b[1;34m(url, proxy, params)\u001b[0m\n\u001b[0;32m      1\u001b[0m \u001b[1;32mdef\u001b[0m \u001b[0mget_html_response\u001b[0m\u001b[1;33m(\u001b[0m\u001b[0murl\u001b[0m\u001b[1;33m:\u001b[0m \u001b[0mstr\u001b[0m\u001b[1;33m,\u001b[0m \u001b[0mproxy\u001b[0m\u001b[1;33m:\u001b[0m \u001b[0mstr\u001b[0m \u001b[1;33m=\u001b[0m \u001b[1;32mNone\u001b[0m\u001b[1;33m,\u001b[0m \u001b[0mparams\u001b[0m\u001b[1;33m:\u001b[0m \u001b[0mlist\u001b[0m \u001b[1;33m=\u001b[0m \u001b[1;32mNone\u001b[0m\u001b[1;33m)\u001b[0m \u001b[1;33m->\u001b[0m \u001b[0mrequests\u001b[0m\u001b[1;33m.\u001b[0m\u001b[0mResponse\u001b[0m\u001b[1;33m:\u001b[0m\u001b[1;33m\u001b[0m\u001b[1;33m\u001b[0m\u001b[0m\n\u001b[1;32m----> 2\u001b[1;33m     \u001b[0mtime\u001b[0m\u001b[1;33m.\u001b[0m\u001b[0msleep\u001b[0m\u001b[1;33m(\u001b[0m\u001b[1;36m1\u001b[0m\u001b[1;33m)\u001b[0m\u001b[1;33m\u001b[0m\u001b[1;33m\u001b[0m\u001b[0m\n\u001b[0m\u001b[0;32m      3\u001b[0m     \u001b[1;32mif\u001b[0m \u001b[1;33m(\u001b[0m\u001b[0mproxy\u001b[0m \u001b[1;32mis\u001b[0m \u001b[1;32mnot\u001b[0m \u001b[1;32mNone\u001b[0m\u001b[1;33m)\u001b[0m\u001b[1;33m:\u001b[0m\u001b[1;33m\u001b[0m\u001b[1;33m\u001b[0m\u001b[0m\n\u001b[0;32m      4\u001b[0m         \u001b[1;32mreturn\u001b[0m \u001b[0mrequests\u001b[0m\u001b[1;33m.\u001b[0m\u001b[0mget\u001b[0m\u001b[1;33m(\u001b[0m\u001b[0murl\u001b[0m\u001b[1;33m,\u001b[0m \u001b[0mproxies\u001b[0m\u001b[1;33m=\u001b[0m\u001b[1;33m{\u001b[0m\u001b[1;34m\"http\"\u001b[0m\u001b[1;33m:\u001b[0m \u001b[0mproxy\u001b[0m\u001b[1;33m,\u001b[0m \u001b[1;34m\"https\"\u001b[0m\u001b[1;33m:\u001b[0m\u001b[0mproxy\u001b[0m\u001b[1;33m}\u001b[0m\u001b[1;33m,\u001b[0m \u001b[0mparams\u001b[0m\u001b[1;33m=\u001b[0m\u001b[0mparams\u001b[0m\u001b[1;33m)\u001b[0m\u001b[1;33m\u001b[0m\u001b[1;33m\u001b[0m\u001b[0m\n\u001b[0;32m      5\u001b[0m     \u001b[1;32melse\u001b[0m\u001b[1;33m:\u001b[0m\u001b[1;33m\u001b[0m\u001b[1;33m\u001b[0m\u001b[0m\n",
      "\u001b[1;31mKeyboardInterrupt\u001b[0m: "
     ]
    }
   ],
   "source": [
    "games_dataframe = get_game_dataframe()\n",
    "games_dataframe.to_csv('games_dataframe.csv')\n",
    "games_dataframe"
   ]
  },
  {
   "cell_type": "code",
   "execution_count": 22,
   "metadata": {},
   "outputs": [],
   "source": [
    "games_dataframe = pd.read_csv('./games_dataframe.csv')"
   ]
  },
  {
   "cell_type": "code",
   "execution_count": 23,
   "metadata": {},
   "outputs": [],
   "source": [
    "def drop_columns(df: DataFrame, columns) -> DataFrame:\n",
    "    return df.drop(columns, axis=1)"
   ]
  },
  {
   "cell_type": "code",
   "execution_count": 24,
   "metadata": {},
   "outputs": [],
   "source": [
    "\n",
    "def map_steam_api_game_data(ndf: DataFrame) -> DataFrame:\n",
    "    df = ndf.copy()\n",
    "    ignored_columns = [\n",
    "        'type',\n",
    "        'name',\n",
    "        'steam_appid',\n",
    "        'detailed_description',\n",
    "        'about_the_game',\n",
    "        'short_description',\n",
    "        'fullgame',\n",
    "        'header_image',\n",
    "        'website',\n",
    "        'pc_requirements',\n",
    "        'mac_requirements',\n",
    "        'linux_requirements',\n",
    "        'legal_notice',\n",
    "        'price_overview',\n",
    "        'package_groups',\n",
    "        'screenshots',\n",
    "        'achievements',\n",
    "        'background',\n",
    "        'content_descriptors',\n",
    "        'support_info',\n",
    "        'ext_user_account_notice',\n",
    "        'reviews',\n",
    "        'drm_notice'\n",
    "    ]\n",
    "    df = drop_columns(df, ignored_columns)\n",
    "    df['number_of_demos'] = df['demos'].apply(lambda demo: len(demo) if type(demo) is list else None)\n",
    "    df = drop_columns(df, 'demos')\n",
    "\n",
    "    df['num_of_game_videos'] = df['movies'].apply(lambda movies: len(movies) if type(movies) is list else None)\n",
    "    df = drop_columns(df, 'movies')\n",
    "\n",
    "    df['num_of_packages_game_is_in'] = df[df['packages'].notnull()].apply(lambda packages: len(packages) if type(packages) is list else None)\n",
    "    df = drop_columns(df, 'packages')\n",
    "\n",
    "    df['metacritic_score'] = df['metacritic'].apply(lambda metacritic : metacritic['score'] / 100 if type(metacritic) is dict else None)\n",
    "    df = drop_columns(df, 'metacritic')\n",
    "\n",
    "    df['windows_supported'] = df['platforms'].apply(lambda platforms: platforms['windows'] == True if type(platforms) is dict else False)\n",
    "    df['mac_supported'] = df['platforms'].apply(lambda platforms: platforms['mac'] == True if type(platforms) is dict else False)\n",
    "    df['linux_supported'] = df['platforms'].apply(lambda platforms: platforms['linux'] == True if type(platforms) is dict else False)\n",
    "    df = drop_columns(df, 'platforms')\n",
    "    \n",
    "    df['total_steam_recommendations'] = df['recommendations'].apply(lambda recommendations : recommendations['total'] if type(recommendations) is dict else None)\n",
    "    df = drop_columns(df, 'recommendations')\n",
    "\n",
    "    df['release_date'] = df['release_date'].apply(lambda release_date : release_date['date'] if type(release_date) is dict else None)\n",
    "    df = drop_columns(df, 'release_date')\n",
    "\n",
    "    df['num_of_dlc'] = df['dlc'].apply(lambda dlc: len(dlc) if type(dlc) is list else 0)\n",
    "    df = drop_columns(df, 'dlc')\n",
    "    return df"
   ]
  },
  {
   "cell_type": "code",
   "execution_count": 25,
   "metadata": {},
   "outputs": [],
   "source": [
    "games_dataframe2 = map_steam_api_game_data(games_dataframe)\n",
    "games_dataframe2.to_csv('games_details_data.csv')"
   ]
  },
  {
   "cell_type": "markdown",
   "metadata": {},
   "source": [
    "<h5>Get price history for each game</h5>"
   ]
  },
  {
   "cell_type": "code",
   "execution_count": 59,
   "metadata": {},
   "outputs": [],
   "source": [
    "def get_game_history_details(steamId: str, history_link: str) -> DataFrame:\n",
    "    if os.path.isfile(f'games/{steamId}.html'):\n",
    "        f = open(f'games/{steamId}.html', 'r')\n",
    "        soup = BeautifulSoup(f.read(), 'html.parser')\n",
    "        f.close()\n",
    "    else:\n",
    "        res = get_html_response(history_link)\n",
    "        f = open(f'games/{steamId}.html', 'a')\n",
    "        f.write(res.text)\n",
    "        f.close()\n",
    "        soup = get_response_as_beautiful_soup(res)\n",
    "    \n",
    "    df = DataFrame()\n",
    "    vals = soup.select(\"div.lg2.game\")\n",
    "    for val in vals:\n",
    "        dateText = val.select_one(\"span.lg2__time-rel\").attrs['title']\n",
    "        date = datetime.datetime.strptime(dateText, '%a, %d %b %Y %H:%M:%S +0000')\n",
    "        shop_title = val.select_one('.shopTitle').text.strip()\n",
    "        regular_price = val.select_one('div:nth-child(2) > span.lg2__price').text.replace('$', '').strip()\n",
    "        price_now = val.select_one('div:nth-child(3) > span.lg2__price').text.replace('$', '').strip()\n",
    "        price_change_percentage = val.select_one('div:nth-child(3) > span.lg2__change').text.replace('$','').replace('%', '')\n",
    "        if price_change_percentage.startswith('-') and price_change_percentage.replace('-', '') != '':\n",
    "            price_change_percentage = float(price_change_percentage.replace('-', '')) / 100\n",
    "        elif price_change_percentage.startswith('+') and price_change_percentage.replace('+', '') != '':\n",
    "            price_change_percentage = (float(price_change_percentage.replace('+', '')) / 100) + 1\n",
    "        df = df.append(DataFrame([{'record_date': date, 'shop': shop_title, 'regular_price': regular_price, 'price_now': price_now, 'price_change': price_change_percentage}]))\n",
    "    return df\n"
   ]
  },
  {
   "cell_type": "code",
   "execution_count": 64,
   "metadata": {},
   "outputs": [
    {
     "name": "stdout",
     "output_type": "stream",
     "text": [
      "    Unnamed: 0  steamId  ... total_steam_recommendations num_of_dlc\n",
      "0            0   812140  ...                        None          0\n",
      "1            1  1174180  ...                        None          0\n",
      "2            2  1448030  ...                        None          0\n",
      "3            3   788100  ...                        None          0\n",
      "4            4  1091500  ...                        None          0\n",
      "..         ...      ...  ...                         ...        ...\n",
      "73          73   686810  ...                        None          0\n",
      "74          74  1426300  ...                        None          0\n",
      "75          75  1222670  ...                        None          0\n",
      "76          76    34900  ...                        None          0\n",
      "77          77  1184370  ...                        None          0\n",
      "\n",
      "[78 rows x 278 columns]\n"
     ]
    },
    {
     "ename": "KeyError",
     "evalue": "\"['key'] not found in axis\"",
     "output_type": "error",
     "traceback": [
      "\u001b[1;31m---------------------------------------------------------------------------\u001b[0m",
      "\u001b[1;31mKeyError\u001b[0m                                  Traceback (most recent call last)",
      "\u001b[1;32m~\\AppData\\Local\\Temp/ipykernel_10816/2585604046.py\u001b[0m in \u001b[0;36m<module>\u001b[1;34m\u001b[0m\n\u001b[0;32m      8\u001b[0m     \u001b[0mrow_df\u001b[0m\u001b[1;33m[\u001b[0m\u001b[1;34m'key'\u001b[0m\u001b[1;33m]\u001b[0m \u001b[1;33m=\u001b[0m \u001b[1;36m1\u001b[0m\u001b[1;33m\u001b[0m\u001b[1;33m\u001b[0m\u001b[0m\n\u001b[0;32m      9\u001b[0m \u001b[1;33m\u001b[0m\u001b[0m\n\u001b[1;32m---> 10\u001b[1;33m     \u001b[0mcross\u001b[0m \u001b[1;33m=\u001b[0m \u001b[0mrow_df\u001b[0m\u001b[1;33m.\u001b[0m\u001b[0mmerge\u001b[0m\u001b[1;33m(\u001b[0m\u001b[0mgame_history_details\u001b[0m\u001b[1;33m,\u001b[0m \u001b[0mhow\u001b[0m \u001b[1;33m=\u001b[0m \u001b[1;34m'outer'\u001b[0m\u001b[1;33m)\u001b[0m\u001b[1;33m.\u001b[0m\u001b[0mdrop\u001b[0m\u001b[1;33m(\u001b[0m\u001b[1;34m'key'\u001b[0m\u001b[1;33m)\u001b[0m\u001b[1;33m\u001b[0m\u001b[1;33m\u001b[0m\u001b[0m\n\u001b[0m\u001b[0;32m     11\u001b[0m     \u001b[0mgames_with_history\u001b[0m \u001b[1;33m=\u001b[0m \u001b[0mgames_with_history\u001b[0m\u001b[1;33m.\u001b[0m\u001b[0mappend\u001b[0m\u001b[1;33m(\u001b[0m\u001b[0mcross\u001b[0m\u001b[1;33m)\u001b[0m\u001b[1;33m\u001b[0m\u001b[1;33m\u001b[0m\u001b[0m\n\u001b[0;32m     12\u001b[0m \u001b[1;33m\u001b[0m\u001b[0m\n",
      "\u001b[1;32m~\\AppData\\Local\\Packages\\PythonSoftwareFoundation.Python.3.8_qbz5n2kfra8p0\\LocalCache\\local-packages\\Python38\\site-packages\\pandas\\util\\_decorators.py\u001b[0m in \u001b[0;36mwrapper\u001b[1;34m(*args, **kwargs)\u001b[0m\n\u001b[0;32m    309\u001b[0m                     \u001b[0mstacklevel\u001b[0m\u001b[1;33m=\u001b[0m\u001b[0mstacklevel\u001b[0m\u001b[1;33m,\u001b[0m\u001b[1;33m\u001b[0m\u001b[1;33m\u001b[0m\u001b[0m\n\u001b[0;32m    310\u001b[0m                 )\n\u001b[1;32m--> 311\u001b[1;33m             \u001b[1;32mreturn\u001b[0m \u001b[0mfunc\u001b[0m\u001b[1;33m(\u001b[0m\u001b[1;33m*\u001b[0m\u001b[0margs\u001b[0m\u001b[1;33m,\u001b[0m \u001b[1;33m**\u001b[0m\u001b[0mkwargs\u001b[0m\u001b[1;33m)\u001b[0m\u001b[1;33m\u001b[0m\u001b[1;33m\u001b[0m\u001b[0m\n\u001b[0m\u001b[0;32m    312\u001b[0m \u001b[1;33m\u001b[0m\u001b[0m\n\u001b[0;32m    313\u001b[0m         \u001b[1;32mreturn\u001b[0m \u001b[0mwrapper\u001b[0m\u001b[1;33m\u001b[0m\u001b[1;33m\u001b[0m\u001b[0m\n",
      "\u001b[1;32m~\\AppData\\Local\\Packages\\PythonSoftwareFoundation.Python.3.8_qbz5n2kfra8p0\\LocalCache\\local-packages\\Python38\\site-packages\\pandas\\core\\frame.py\u001b[0m in \u001b[0;36mdrop\u001b[1;34m(self, labels, axis, index, columns, level, inplace, errors)\u001b[0m\n\u001b[0;32m   4904\u001b[0m                 \u001b[0mweight\u001b[0m  \u001b[1;36m1.0\u001b[0m     \u001b[1;36m0.8\u001b[0m\u001b[1;33m\u001b[0m\u001b[1;33m\u001b[0m\u001b[0m\n\u001b[0;32m   4905\u001b[0m         \"\"\"\n\u001b[1;32m-> 4906\u001b[1;33m         return super().drop(\n\u001b[0m\u001b[0;32m   4907\u001b[0m             \u001b[0mlabels\u001b[0m\u001b[1;33m=\u001b[0m\u001b[0mlabels\u001b[0m\u001b[1;33m,\u001b[0m\u001b[1;33m\u001b[0m\u001b[1;33m\u001b[0m\u001b[0m\n\u001b[0;32m   4908\u001b[0m             \u001b[0maxis\u001b[0m\u001b[1;33m=\u001b[0m\u001b[0maxis\u001b[0m\u001b[1;33m,\u001b[0m\u001b[1;33m\u001b[0m\u001b[1;33m\u001b[0m\u001b[0m\n",
      "\u001b[1;32m~\\AppData\\Local\\Packages\\PythonSoftwareFoundation.Python.3.8_qbz5n2kfra8p0\\LocalCache\\local-packages\\Python38\\site-packages\\pandas\\core\\generic.py\u001b[0m in \u001b[0;36mdrop\u001b[1;34m(self, labels, axis, index, columns, level, inplace, errors)\u001b[0m\n\u001b[0;32m   4148\u001b[0m         \u001b[1;32mfor\u001b[0m \u001b[0maxis\u001b[0m\u001b[1;33m,\u001b[0m \u001b[0mlabels\u001b[0m \u001b[1;32min\u001b[0m \u001b[0maxes\u001b[0m\u001b[1;33m.\u001b[0m\u001b[0mitems\u001b[0m\u001b[1;33m(\u001b[0m\u001b[1;33m)\u001b[0m\u001b[1;33m:\u001b[0m\u001b[1;33m\u001b[0m\u001b[1;33m\u001b[0m\u001b[0m\n\u001b[0;32m   4149\u001b[0m             \u001b[1;32mif\u001b[0m \u001b[0mlabels\u001b[0m \u001b[1;32mis\u001b[0m \u001b[1;32mnot\u001b[0m \u001b[1;32mNone\u001b[0m\u001b[1;33m:\u001b[0m\u001b[1;33m\u001b[0m\u001b[1;33m\u001b[0m\u001b[0m\n\u001b[1;32m-> 4150\u001b[1;33m                 \u001b[0mobj\u001b[0m \u001b[1;33m=\u001b[0m \u001b[0mobj\u001b[0m\u001b[1;33m.\u001b[0m\u001b[0m_drop_axis\u001b[0m\u001b[1;33m(\u001b[0m\u001b[0mlabels\u001b[0m\u001b[1;33m,\u001b[0m \u001b[0maxis\u001b[0m\u001b[1;33m,\u001b[0m \u001b[0mlevel\u001b[0m\u001b[1;33m=\u001b[0m\u001b[0mlevel\u001b[0m\u001b[1;33m,\u001b[0m \u001b[0merrors\u001b[0m\u001b[1;33m=\u001b[0m\u001b[0merrors\u001b[0m\u001b[1;33m)\u001b[0m\u001b[1;33m\u001b[0m\u001b[1;33m\u001b[0m\u001b[0m\n\u001b[0m\u001b[0;32m   4151\u001b[0m \u001b[1;33m\u001b[0m\u001b[0m\n\u001b[0;32m   4152\u001b[0m         \u001b[1;32mif\u001b[0m \u001b[0minplace\u001b[0m\u001b[1;33m:\u001b[0m\u001b[1;33m\u001b[0m\u001b[1;33m\u001b[0m\u001b[0m\n",
      "\u001b[1;32m~\\AppData\\Local\\Packages\\PythonSoftwareFoundation.Python.3.8_qbz5n2kfra8p0\\LocalCache\\local-packages\\Python38\\site-packages\\pandas\\core\\generic.py\u001b[0m in \u001b[0;36m_drop_axis\u001b[1;34m(self, labels, axis, level, errors)\u001b[0m\n\u001b[0;32m   4183\u001b[0m                 \u001b[0mnew_axis\u001b[0m \u001b[1;33m=\u001b[0m \u001b[0maxis\u001b[0m\u001b[1;33m.\u001b[0m\u001b[0mdrop\u001b[0m\u001b[1;33m(\u001b[0m\u001b[0mlabels\u001b[0m\u001b[1;33m,\u001b[0m \u001b[0mlevel\u001b[0m\u001b[1;33m=\u001b[0m\u001b[0mlevel\u001b[0m\u001b[1;33m,\u001b[0m \u001b[0merrors\u001b[0m\u001b[1;33m=\u001b[0m\u001b[0merrors\u001b[0m\u001b[1;33m)\u001b[0m\u001b[1;33m\u001b[0m\u001b[1;33m\u001b[0m\u001b[0m\n\u001b[0;32m   4184\u001b[0m             \u001b[1;32melse\u001b[0m\u001b[1;33m:\u001b[0m\u001b[1;33m\u001b[0m\u001b[1;33m\u001b[0m\u001b[0m\n\u001b[1;32m-> 4185\u001b[1;33m                 \u001b[0mnew_axis\u001b[0m \u001b[1;33m=\u001b[0m \u001b[0maxis\u001b[0m\u001b[1;33m.\u001b[0m\u001b[0mdrop\u001b[0m\u001b[1;33m(\u001b[0m\u001b[0mlabels\u001b[0m\u001b[1;33m,\u001b[0m \u001b[0merrors\u001b[0m\u001b[1;33m=\u001b[0m\u001b[0merrors\u001b[0m\u001b[1;33m)\u001b[0m\u001b[1;33m\u001b[0m\u001b[1;33m\u001b[0m\u001b[0m\n\u001b[0m\u001b[0;32m   4186\u001b[0m             \u001b[0mresult\u001b[0m \u001b[1;33m=\u001b[0m \u001b[0mself\u001b[0m\u001b[1;33m.\u001b[0m\u001b[0mreindex\u001b[0m\u001b[1;33m(\u001b[0m\u001b[1;33m**\u001b[0m\u001b[1;33m{\u001b[0m\u001b[0maxis_name\u001b[0m\u001b[1;33m:\u001b[0m \u001b[0mnew_axis\u001b[0m\u001b[1;33m}\u001b[0m\u001b[1;33m)\u001b[0m\u001b[1;33m\u001b[0m\u001b[1;33m\u001b[0m\u001b[0m\n\u001b[0;32m   4187\u001b[0m \u001b[1;33m\u001b[0m\u001b[0m\n",
      "\u001b[1;32m~\\AppData\\Local\\Packages\\PythonSoftwareFoundation.Python.3.8_qbz5n2kfra8p0\\LocalCache\\local-packages\\Python38\\site-packages\\pandas\\core\\indexes\\base.py\u001b[0m in \u001b[0;36mdrop\u001b[1;34m(self, labels, errors)\u001b[0m\n\u001b[0;32m   6015\u001b[0m         \u001b[1;32mif\u001b[0m \u001b[0mmask\u001b[0m\u001b[1;33m.\u001b[0m\u001b[0many\u001b[0m\u001b[1;33m(\u001b[0m\u001b[1;33m)\u001b[0m\u001b[1;33m:\u001b[0m\u001b[1;33m\u001b[0m\u001b[1;33m\u001b[0m\u001b[0m\n\u001b[0;32m   6016\u001b[0m             \u001b[1;32mif\u001b[0m \u001b[0merrors\u001b[0m \u001b[1;33m!=\u001b[0m \u001b[1;34m\"ignore\"\u001b[0m\u001b[1;33m:\u001b[0m\u001b[1;33m\u001b[0m\u001b[1;33m\u001b[0m\u001b[0m\n\u001b[1;32m-> 6017\u001b[1;33m                 \u001b[1;32mraise\u001b[0m \u001b[0mKeyError\u001b[0m\u001b[1;33m(\u001b[0m\u001b[1;34mf\"{labels[mask]} not found in axis\"\u001b[0m\u001b[1;33m)\u001b[0m\u001b[1;33m\u001b[0m\u001b[1;33m\u001b[0m\u001b[0m\n\u001b[0m\u001b[0;32m   6018\u001b[0m             \u001b[0mindexer\u001b[0m \u001b[1;33m=\u001b[0m \u001b[0mindexer\u001b[0m\u001b[1;33m[\u001b[0m\u001b[1;33m~\u001b[0m\u001b[0mmask\u001b[0m\u001b[1;33m]\u001b[0m\u001b[1;33m\u001b[0m\u001b[1;33m\u001b[0m\u001b[0m\n\u001b[0;32m   6019\u001b[0m         \u001b[1;32mreturn\u001b[0m \u001b[0mself\u001b[0m\u001b[1;33m.\u001b[0m\u001b[0mdelete\u001b[0m\u001b[1;33m(\u001b[0m\u001b[0mindexer\u001b[0m\u001b[1;33m)\u001b[0m\u001b[1;33m\u001b[0m\u001b[1;33m\u001b[0m\u001b[0m\n",
      "\u001b[1;31mKeyError\u001b[0m: \"['key'] not found in axis\""
     ]
    }
   ],
   "source": [
    "print(games_dataframe2)\n",
    "games_with_history = DataFrame()\n",
    "for index, row in games_dataframe2.iterrows():\n",
    "    row_df = DataFrame([row])\n",
    "    game_history_details = get_game_history_details(row['steamId'], row['history_link'])\n",
    "\n",
    "    game_history_details['key'] = 1\n",
    "    row_df['key'] = 1\n",
    "\n",
    "    cross = row_df.merge(game_history_details, how = 'outer')\n",
    "    games_with_history = games_with_history.append(cross)\n",
    "\n",
    "games_with_history"
   ]
  },
  {
   "cell_type": "code",
   "execution_count": 1,
   "metadata": {},
   "outputs": [
    {
     "ename": "NameError",
     "evalue": "name 'pd' is not defined",
     "output_type": "error",
     "traceback": [
      "\u001b[1;31m---------------------------------------------------------------------------\u001b[0m",
      "\u001b[1;31mNameError\u001b[0m                                 Traceback (most recent call last)",
      "\u001b[1;32m~\\AppData\\Local\\Temp/ipykernel_10816/3083053487.py\u001b[0m in \u001b[0;36m<module>\u001b[1;34m\u001b[0m\n\u001b[1;32m----> 1\u001b[1;33m \u001b[1;32mdef\u001b[0m \u001b[0msave_game_as_csv\u001b[0m\u001b[1;33m(\u001b[0m\u001b[0msteamId\u001b[0m\u001b[1;33m:\u001b[0m \u001b[0mstr\u001b[0m\u001b[1;33m,\u001b[0m \u001b[0mdf\u001b[0m\u001b[1;33m:\u001b[0m \u001b[0mpd\u001b[0m\u001b[1;33m.\u001b[0m\u001b[0mDataFrame\u001b[0m\u001b[1;33m)\u001b[0m\u001b[1;33m:\u001b[0m\u001b[1;33m\u001b[0m\u001b[1;33m\u001b[0m\u001b[0m\n\u001b[0m\u001b[0;32m      2\u001b[0m     \u001b[0mdf\u001b[0m\u001b[1;33m.\u001b[0m\u001b[0mto_csv\u001b[0m\u001b[1;33m(\u001b[0m\u001b[1;34mf\"games/steam_id_{steamId}\"\u001b[0m\u001b[1;33m)\u001b[0m\u001b[1;33m\u001b[0m\u001b[1;33m\u001b[0m\u001b[0m\n",
      "\u001b[1;31mNameError\u001b[0m: name 'pd' is not defined"
     ]
    }
   ],
   "source": [
    "def save_game_as_csv(steamId: str, df: DataFrame):\n",
    "    df.to_csv(f\"games/steam_id_{steamId}\")"
   ]
  },
  {
   "cell_type": "code",
   "execution_count": null,
   "metadata": {},
   "outputs": [],
   "source": [
    "def get_game_details():\n",
    "    soup = get_response_as_beautiful_soup(game_details_response)\n",
    "    return soup.select(\"#pageContainer > script:nth-child(9)\")\n",
    "\n",
    "gamedetails = str(get_game_details()[0])\n",
    "m = re.findall('JSON\\.stringify\\((.*?)\\)', gamedetails)\n",
    "# print(m)"
   ]
  },
  {
   "cell_type": "markdown",
   "metadata": {},
   "source": [
    "<h3>Used Resources</h3>\n",
    "<dl>\n",
    "    <dt>Scraping</dt>\n",
    "    <dd>\n",
    "        <a href=\"https://isthereanydeal.com/game/reddeadredemptionii/info/\">\n",
    "            <b>Is-There-Any-Deal website</b> For scraping cost history and more financial details\n",
    "        </a>\n",
    "    </dd>\n",
    "    <dd>\n",
    "        <a href=\"https://www.geeksforgeeks.org/web-scraping-without-getting-blocked/\">\n",
    "            <b>Using Proxies to avoiding getting blocked</b>\n",
    "        </a>\n",
    "    </dd>\n",
    "    <dd>\n",
    "        <a href=\"https://wiki.teamfortress.com/wiki/User:RJackson/StorefrontAPI#App_info\">\n",
    "            <b>Steam StoreFront API</b> Limited to 100,000 requests per day, and no more than 10 per second\n",
    "        </a>\n",
    "    </dd>\n",
    "    <dd>\n",
    "        <a href=\"https://store.steampowered.com/api/appdetails\">Steam API for Game Metadata - https://store.steampowered.com/api/appdetails?appids=1091500</a>\n",
    "    </dd>\n",
    "</dl>"
   ]
  }
 ],
 "metadata": {
  "interpreter": {
   "hash": "79d14381c615de0483739fde38a1fe3340d940b640c68fad7128c060c0741248"
  },
  "kernelspec": {
   "display_name": "Python 3.8.10 64-bit (windows store)",
   "language": "python",
   "name": "python3"
  },
  "language_info": {
   "codemirror_mode": {
    "name": "ipython",
    "version": 3
   },
   "file_extension": ".py",
   "mimetype": "text/x-python",
   "name": "python",
   "nbconvert_exporter": "python",
   "pygments_lexer": "ipython3",
   "version": "3.8.10"
  },
  "orig_nbformat": 4
 },
 "nbformat": 4,
 "nbformat_minor": 2
}
