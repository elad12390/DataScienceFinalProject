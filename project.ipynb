{
 "cells": [
  {
   "cell_type": "markdown",
   "metadata": {},
   "source": [
    "<h1>Predicting game prices</h1>\n",
    "<h5 style=\"margin-left: 2rem\">By: Shalev Hadar, Elad Ben-Haim</h5>\n",
    "<p>Gmail/Email user: shaleveladhit@gmail.com</p>\n",
    "<p>Steam Username: ShalevEladHit</p>\n",
    "<p>Steam Password: ShalevElad123@</p>\n",
    "<br/>\n",
    "<br/>"
   ]
  },
  {
   "cell_type": "markdown",
   "metadata": {},
   "source": [
    "<h4>Defining our problem</h4>\n",
    "<table dir=\"rtl\">\n",
    "    <tr>\n",
    "        <th>\n",
    "            מה הבעיה\n",
    "        </th>\n",
    "        <th>\n",
    "            תיאור הבעיה\n",
    "        </th>\n",
    "    </tr>\n",
    "    <tr>\n",
    "        <td>\n",
    "        האם ניתן לחזות מחיר של משחק בעוד x זמן?\n",
    "        </td>\n",
    "        <td>\n",
    "        מתי הכי ישתלם לקנות את המשחק בעתיד\n",
    "        </td>\n",
    "    </tr>\n",
    "    <tr>\n",
    "        <td>\n",
    "        האם ניתן לחזור מתי למוכר הכי משתלם לעשות מבצע על המשחק?\n",
    "        </td>\n",
    "        <td>\n",
    "        מתי הכי כדאי למוכר לעשות מבצע כדי להביא עוד שחקנים ולהמשיך למכור עם הרווח הגדול ביותר\n",
    "        </td>\n",
    "    </tr>\n",
    "</table>\n",
    "<br/>"
   ]
  },
  {
   "cell_type": "markdown",
   "metadata": {},
   "source": [
    "\n",
    "<br/>"
   ]
  },
  {
   "cell_type": "markdown",
   "metadata": {},
   "source": [
    "<h4>Importing</h6>"
   ]
  },
  {
   "cell_type": "code",
   "execution_count": 49,
   "metadata": {},
   "outputs": [],
   "source": [
    "import requests\n",
    "import bs4\n",
    "from bs4 import BeautifulSoup\n",
    "import random\n",
    "import itertools"
   ]
  },
  {
   "cell_type": "markdown",
   "metadata": {},
   "source": [
    "<h4>Global functions</h4>"
   ]
  },
  {
   "cell_type": "code",
   "execution_count": 62,
   "metadata": {},
   "outputs": [],
   "source": [
    "def get_html_response(url: str) -> requests.Response:\n",
    "    return requests.get(url)\n",
    "\n",
    "def get_response_as_beautiful_soup(htmlText: requests.Response) -> BeautifulSoup:\n",
    "    return BeautifulSoup(htmlText.text, 'html.parser')"
   ]
  },
  {
   "cell_type": "markdown",
   "metadata": {},
   "source": [
    "<br/>"
   ]
  },
  {
   "cell_type": "markdown",
   "metadata": {},
   "source": [
    "<h4>Defining proxies for scraping</h4>"
   ]
  },
  {
   "cell_type": "markdown",
   "metadata": {},
   "source": [
    "<h5>Get proxy list response html website</h5>\n",
    "<h6>get the html as response object instead of getting the html again and again</h6>"
   ]
  },
  {
   "cell_type": "code",
   "execution_count": 55,
   "metadata": {},
   "outputs": [],
   "source": [
    "# Get the html of the proxy list website\n",
    "def get_proxy_list_html() -> requests.Response:\n",
    "    # Website to get free proxies\n",
    "    return get_html_response('https://free-proxy-list.net/')\n",
    "\n",
    "proxies_response = get_proxy_list_html()"
   ]
  },
  {
   "cell_type": "markdown",
   "metadata": {},
   "source": [
    "<h5>Scrape proxy ip addresses</h5>\n",
    "<h6>gets the ip addresses as a list, shuffles them and returns an iterator to cycle through when making scrape requests</h6>"
   ]
  },
  {
   "cell_type": "code",
   "execution_count": 63,
   "metadata": {},
   "outputs": [],
   "source": [
    "def get_proxy_list() -> itertools.cycle:\n",
    "    soup = get_response_as_beautiful_soup(proxies_response)\n",
    "    proxy_soup_list = soup.select('#list > div > div.table-responsive > div > table > tbody > tr')\n",
    "    proxy_list = list(map(lambda i: i.select('td:nth-child(1)')[0].text + ':' + i.select('td:nth-child(2)')[0].text, proxy_soup_list))\n",
    "    random.shuffle(proxy_list)\n",
    "    return itertools.cycle(proxy_list)\n"
   ]
  },
  {
   "cell_type": "markdown",
   "metadata": {},
   "source": [
    "<br/>"
   ]
  },
  {
   "cell_type": "markdown",
   "metadata": {},
   "source": [
    "<h4>Scrape isThereAnyDeal website</h4>\n",
    "<h6>Steps:</h6>\n",
    "<ol>\n",
    "<li>Crawl list of top 100 trending games</li>\n",
    "<li>For each game, get the game details from steam API</li>\n",
    "<li>For each game, crawl price history on isThereAnyDeal</li>\n",
    "</ol>"
   ]
  },
  {
   "cell_type": "markdown",
   "metadata": {},
   "source": [
    "<h5>Get list of 100 top trending games</h5>"
   ]
  },
  {
   "cell_type": "code",
   "execution_count": 64,
   "metadata": {},
   "outputs": [],
   "source": [
    "def get_is_there_any_deal_games_response() -> requests.Response:\n",
    "    filteredUrl = 'https://isthereanydeal.com/?by=trending:desc#/filter:&releaseyear/2010/2021,&pl/windows,&drm/steam,steam,-dlc,-type/6,-type/8,-type/7;/options:all'\n",
    "    return get_html_response(filteredUrl)\n",
    "is_there_any_deal_games_response = get_is_there_any_deal_games_response()"
   ]
  },
  {
   "cell_type": "code",
   "execution_count": null,
   "metadata": {},
   "outputs": [],
   "source": [
    "def get_game_links():\n",
    "    soup = get_response_as_beautiful_soup(is_there_any_deal_games_response)\n",
    "    "
   ]
  },
  {
   "cell_type": "markdown",
   "metadata": {},
   "source": [
    "<h3>Used Resources</h3>\n",
    "<dl>\n",
    "    <dt>Scraping</dt>\n",
    "    <dd><a href=\"https://isthereanydeal.com/game/reddeadredemptionii/info/\">Is-There-Any-Deal website</a></dd>\n",
    "    <dd><a href=\"https://www.geeksforgeeks.org/web-scraping-without-getting-blocked/\">Using Proxies to avoiding getting blocked</a></dd>\n",
    "</dl>"
   ]
  }
 ],
 "metadata": {
  "interpreter": {
   "hash": "79d14381c615de0483739fde38a1fe3340d940b640c68fad7128c060c0741248"
  },
  "kernelspec": {
   "display_name": "Python 3.8.10 64-bit (windows store)",
   "language": "python",
   "name": "python3"
  },
  "language_info": {
   "codemirror_mode": {
    "name": "ipython",
    "version": 3
   },
   "file_extension": ".py",
   "mimetype": "text/x-python",
   "name": "python",
   "nbconvert_exporter": "python",
   "pygments_lexer": "ipython3",
   "version": "3.8.10"
  },
  "orig_nbformat": 4
 },
 "nbformat": 4,
 "nbformat_minor": 2
}
