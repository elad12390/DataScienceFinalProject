{
 "cells": [
  {
   "cell_type": "markdown",
   "metadata": {},
   "source": [
    "<h1>Predicting game prices</h1>\n",
    "<h5 style=\"margin-left: 2rem\">By: Elad Ben-Haim, Shalev Hadar</h5>\n",
    "<br/>\n",
    "<br/>"
   ]
  },
  {
   "cell_type": "markdown",
   "metadata": {},
   "source": [
    "<h4>נושא המחקר</h4>\n",
    "<table dir=\"rtl\">\n",
    "    <tr>\n",
    "        <th>\n",
    "            נושא המחקר\n",
    "        </th>\n",
    "        <th>\n",
    "            פירוט הנושא\n",
    "        </th>\n",
    "    </tr>\n",
    "    <tr>\n",
    "        <td>\n",
    "        האם ניתן לחזות מחיר של משחק בעוד x זמן?\n",
    "        </td>\n",
    "        <td>\n",
    "        מתי הכי ישתלם לקנות את המשחק בעתיד\n",
    "        </td>\n",
    "    </tr>\n",
    "    <tr>\n",
    "        <td>\n",
    "        האם ניתן לחזור מתי למוכר הכי משתלם לעשות מבצע על המשחק?\n",
    "        </td>\n",
    "        <td>\n",
    "        מתי הכי כדאי למוכר לעשות מבצע כדי להביא עוד שחקנים ולהמשיך למכור עם הרווח הגדול ביותר\n",
    "        </td>\n",
    "    </tr>\n",
    "</table>\n",
    "<br/>"
   ]
  },
  {
   "cell_type": "markdown",
   "metadata": {},
   "source": [
    "<br/>"
   ]
  },
  {
   "cell_type": "markdown",
   "metadata": {},
   "source": [
    "<h4>נתוני המחקר ודרכי ניתוח</h4>\n",
    "<table dir=\"rtl\">\n",
    "    <tr>\n",
    "        <th>\n",
    "            נתוני המחקר & דרכי ניתוח\n",
    "        </th>\n",
    "        <th>\n",
    "             ואיך ננתח אותם\n",
    "        </th>\n",
    "    </tr>\n",
    "    <tr>\n",
    "        <td>\n",
    "\t\tפירוט הנתונים: פרטים פיננסיים הוא נמכר בזמן X ואז לחזות בכמה הוא ימכר בזמן Y ובנוסף פרטים על המשחק - כמו שם, ז'אנר פופולריות וכו'.\n",
    "        </td>\n",
    "        <td>\n",
    "            <p style=\"font-size: 1.1rem\">\n",
    "                נשתמש ב-Crawling על אתר isThereAnyDeal(Fig.3)<br/>\n",
    "                כדי לא לקבל הודעת שגיאה על שימוש יתר, נשתמש ב-PROXY כדי לא להחסם ע\"י isThereAnyDeal<br/>\n",
    "                ונייבא משם את כל המידע הדרוש כדי לחזות את המחיר של משחק בעוד X זמן מסוים.<br/>\n",
    "                ראינו שלכל משחק קיים באיזור ה1000+ (Fig.2) רשומות של log (Fig.1) של המחיר שלו ביחס לזמן, ולחנות בה הוא נמכר ואת העלייה\\ירידה במחיר של המשחק ביחד ללוג הקודם.<br/>\n",
    "                בעזרת STEAM API נוציא את ז'אנר המשחק, שנת הייצור ועוד פרטים מורכבים יותר על המשחק עצמו<br/>\n",
    "                ולבסוף נצרף לכל לוג את פרטי המשחק ונקבל Dataset בגודל n = כמות המשחקים, x = כמות הלוגים, כלומר n*x<br/>\n",
    "                אנחנו מעוניינים כרגע לקחת את 100 המשחקים הראשונים ולפי מה שראינו כמות הלוגים בדרך כלל היא לפחות 1000 אז נקבל בסביבות ה100,000+ רשומות.<br/>\n",
    "            </p>\n",
    "        </td>\n",
    "    </tr>\n",
    "    <tr>\n",
    "        <td>\n",
    "\t\tדרכי ניתוח: נשתמש בכלים שלמדנו במהלך הקורס לעבד\\ללמוד מהנתונים כמה מידע שאנו צריכים למטרה זו\n",
    "        </td>\n",
    "        <td>\n",
    "            <p style=\"font-size: 1.1rem\">\n",
    "                ננתח את הDataFrame, בעזרת טבלאות יחסי משתנים, סטטיסטיקות, ולבסוף ננסה ללמד מכונה שתחזה את התאריך של המחיר הזול ביותר בשנה מסוימת, ואת המחיר אשר יביא את כמות המכירות הגדול ביותר\n",
    "            </p>\n",
    "        </td>\n",
    "    </tr>\n",
    "</table>\n",
    "<br/>\n",
    "<table style=\"width:100%;grid-template-rows: 1fr 1fr 1fr;\">\n",
    "<tr>\n",
    "    <td>\n",
    "        <figure>\n",
    "            <img src=\"images\\log_table_for_ds3.png\" alt=\"Is there any deal log table\">\n",
    "            <figcaption>Fig.1 - The main crawled data source</figcaption>\n",
    "        </figure>\n",
    "    </td>\n",
    "    <td>\n",
    "        <figure>\n",
    "            <img src=\"images\\number_of_logs_for_ds3.png\" alt=\"Example for number of rows in a typical game\">\n",
    "            <figcaption>Fig.2 - Example for number of rows in a typical game (Dark souls 3) </figcaption>\n",
    "        </figure>\n",
    "    </td>\n",
    "    <td>\n",
    "        <figure>\n",
    "            <img src=\"images\\is_there_any_deal_site_example_ds3.png\" alt=\"Is there any deal game page\">\n",
    "            <figcaption>Fig.3 - IsThereAnyDeal game page</figcaption>\n",
    "        </figure>\n",
    "    </td>\n",
    "</tr>"
   ]
  },
  {
   "cell_type": "markdown",
   "metadata": {},
   "source": [
    "<h4>Importing</h6>"
   ]
  },
  {
   "cell_type": "code",
   "execution_count": 123,
   "metadata": {},
   "outputs": [],
   "source": [
    "import requests\n",
    "import bs4\n",
    "from bs4 import BeautifulSoup\n",
    "import random\n",
    "import itertools\n",
    "import re\n",
    "import pandas as pd\n",
    "from pandas import DataFrame\n",
    "import time\n",
    "import datetime\n",
    "import locale\n",
    "import os.path\n",
    "import json\n",
    "import ast\n",
    "import dateutil.parser\n",
    "from deep_translator import GoogleTranslator\n",
    "import pickle\n",
    "import seaborn as sns\n",
    "from collections import OrderedDict\n",
    "import matplotlib as plt\n"
   ]
  },
  {
   "cell_type": "markdown",
   "metadata": {},
   "source": [
    "<h4>Global functions</h4>"
   ]
  },
  {
   "cell_type": "code",
   "execution_count": 2,
   "metadata": {},
   "outputs": [],
   "source": [
    "def get_html_response(url: str, proxy: str = None, params: list = None) -> requests.Response:\n",
    "    time.sleep(1)\n",
    "    if (proxy is not None):\n",
    "        return requests.get(url, proxies={\"http\": proxy, \"https\":proxy}, params=params)\n",
    "    else:\n",
    "        return requests.get(url, params=params)\n",
    "\n",
    "def get_response_as_beautiful_soup(req: requests.Response) -> BeautifulSoup:\n",
    "    return BeautifulSoup(req.text, 'html.parser')\n",
    "\n",
    "def cache_json(folder_path: str, id: str, get_function):\n",
    "    if os.path.isfile(f'{folder_path}/{id}.json'):\n",
    "        f = open(f'{folder_path}/{id}.json', 'r')\n",
    "        data = json.load(f)\n",
    "        f.close()\n",
    "    else:\n",
    "        data = get_function(id).json()\n",
    "        f = open(f'{folder_path}/{id}.json', 'a')\n",
    "        f.write(json.dumps(data))\n",
    "        f.close()\n",
    "    return data\n",
    "\n",
    "def cache_soup(folder_path: str, id: str, get_function):\n",
    "    if os.path.isfile(f'{folder_path}/{id}.html'):\n",
    "        f = open(f'{folder_path}/{id}.html', 'r')\n",
    "        soup = BeautifulSoup(f.read(), 'html.parser')\n",
    "        f.close()\n",
    "    else:\n",
    "        res = get_function(id)\n",
    "        f = open(f'{folder_path}/{id}.html', 'a')\n",
    "        f.write(res.text)\n",
    "        f.close()\n",
    "        soup = get_response_as_beautiful_soup(res)\n",
    "    return soup\n",
    "\n",
    "def translate(source: str):\n",
    "    url = 'translations.pickle'\n",
    "    translations = dict()\n",
    "    if os.path.isfile(url):\n",
    "        f = open(url, \"rb\")\n",
    "        translations = pickle.load(f)\n",
    "        f.close()\n",
    "    \n",
    "    translation = translations.get(source)\n",
    "    if translation is not None:\n",
    "        return translation\n",
    "\n",
    "    translator = GoogleTranslator(source='auto', target='en')\n",
    "    translation = translator.translate(source)\n",
    "    translations[source] = translation\n",
    "    f = open( url, \"wb\" )\n",
    "    pickle.dump(translations, f)\n",
    "    f.close()\n",
    "    return translation\n",
    "\n",
    "def get_len(col):\n",
    "    if type(col) is list:\n",
    "        return len(col)\n",
    "    else:\n",
    "        return 0\n",
    "\n",
    "def pluck(key):\n",
    "    return lambda col: col.get(key) if type(col) is dict else None\n",
    "\n",
    "def pluckBy(key, okFunction = lambda val: val, errFunction = lambda _: None):\n",
    "    return lambda col: okFunction(col.get(key)) if type(col) is dict else errFunction(None)\n",
    "\n",
    "def parse_datetime(datetime_str: str):\n",
    "    try:\n",
    "        return dateutil.parser.parse(datetime_str)\n",
    "    except:\n",
    "        return dateutil.parser.parse(translate(datetime_str))\n",
    "        "
   ]
  },
  {
   "cell_type": "markdown",
   "metadata": {},
   "source": [
    "<br/>"
   ]
  },
  {
   "cell_type": "markdown",
   "metadata": {},
   "source": [
    "<h4>Defining proxies for scraping</h4>"
   ]
  },
  {
   "cell_type": "markdown",
   "metadata": {},
   "source": [
    "<h5>Get proxy list response html website</h5>\n",
    "<h6>get the html as response object instead of getting the html again and again</h6>"
   ]
  },
  {
   "cell_type": "code",
   "execution_count": 3,
   "metadata": {},
   "outputs": [],
   "source": [
    "# Get the html of the proxy list website\n",
    "def get_proxy_list_html() -> requests.Response:\n",
    "    # Website to get free proxies\n",
    "    return get_html_response('https://free-proxy-list.net/')"
   ]
  },
  {
   "cell_type": "code",
   "execution_count": 4,
   "metadata": {},
   "outputs": [],
   "source": [
    "proxies_response = get_proxy_list_html()"
   ]
  },
  {
   "cell_type": "markdown",
   "metadata": {},
   "source": [
    "<h5>Scrape proxy ip addresses</h5>\n",
    "<h6>gets the ip addresses as a list, shuffles them and returns an iterator to cycle through when making scrape requests</h6>"
   ]
  },
  {
   "cell_type": "code",
   "execution_count": 5,
   "metadata": {},
   "outputs": [],
   "source": [
    "def get_proxy_list() -> itertools.cycle:\n",
    "    soup = get_response_as_beautiful_soup(proxies_response)\n",
    "    proxy_soup_list = soup.select('#list > div > div.table-responsive > div > table > tbody > tr')\n",
    "    proxy_list = list(map(lambda i: i.select('td:nth-child(1)')[0].text + ':' + i.select('td:nth-child(2)')[0].text, proxy_soup_list))\n",
    "    length = len(proxy_list)\n",
    "    random.shuffle(proxy_list)\n",
    "    return itertools.cycle(proxy_list), length"
   ]
  },
  {
   "cell_type": "code",
   "execution_count": 6,
   "metadata": {},
   "outputs": [],
   "source": [
    "proxy_list, proxy_list_length = get_proxy_list()\n",
    "current_proxy = next(proxy_list)"
   ]
  },
  {
   "cell_type": "code",
   "execution_count": 7,
   "metadata": {},
   "outputs": [],
   "source": [
    "def get_proxied(url: str, params: list = None) -> requests.Response:\n",
    "    i = 0\n",
    "    while(i < proxy_list_length / 2):\n",
    "        try:\n",
    "            response = get_html_response(url, current_proxy, params=params)\n",
    "            time.sleep(2)\n",
    "            return response\n",
    "        except:\n",
    "            i += 1\n",
    "        finally:\n",
    "            current_proxy = next(proxy_list)\n",
    "\n",
    "    raise RuntimeError('Half of the proxies provided don`t work.')"
   ]
  },
  {
   "cell_type": "markdown",
   "metadata": {},
   "source": [
    "<br/>"
   ]
  },
  {
   "cell_type": "markdown",
   "metadata": {
    "collapsed": false
   },
   "source": [
    "<h2>Crawling + Analyzing</h2>"
   ]
  },
  {
   "cell_type": "markdown",
   "metadata": {},
   "source": [
    "<h4>Scrape isThereAnyDeal website</h4>\n",
    "<h6>Steps:</h6>\n",
    "<ol>\n",
    "<li>Crawl list of top 100 trending games</li>\n",
    "<li>For each game:</li>\n",
    "<ul>\n",
    "    <li>get the game details from steam API using \"appId\" scraped either from PC Gaming Wiki or Steam Ladder links</li>\n",
    "    <li>mine price Log history on isThereAnyDeal</li>\n",
    "    <li>mine Number of sales of the game</li>\n",
    "<ul>\n",
    "</ol>"
   ]
  },
  {
   "cell_type": "code",
   "execution_count": 8,
   "metadata": {},
   "outputs": [],
   "source": [
    "is_there_any_deal_url = 'https://isthereanydeal.com'\n",
    "steam_api_url = 'https://store.steampowered.com/api/appdetails'"
   ]
  },
  {
   "cell_type": "markdown",
   "metadata": {},
   "source": [
    "<h5>Get list of 100 top trending games</h5>"
   ]
  },
  {
   "cell_type": "code",
   "execution_count": 9,
   "metadata": {},
   "outputs": [],
   "source": [
    "def get_is_there_any_deal_games_response() -> requests.Response:\n",
    "    filteredUrl = 'https://isthereanydeal.com/'\n",
    "    return get_html_response(filteredUrl)"
   ]
  },
  {
   "cell_type": "code",
   "execution_count": 10,
   "metadata": {},
   "outputs": [
    {
     "name": "stdout",
     "output_type": "stream",
     "text": [
      "<Response [200]>\n"
     ]
    }
   ],
   "source": [
    "is_there_any_deal_games_response = get_is_there_any_deal_games_response()\n",
    "print(is_there_any_deal_games_response)"
   ]
  },
  {
   "cell_type": "code",
   "execution_count": 11,
   "metadata": {},
   "outputs": [],
   "source": [
    "def add_game_to_dataframe(df: DataFrame, game: dict) -> DataFrame:\n",
    "    return df.append(DataFrame([game]), ignore_index=True)"
   ]
  },
  {
   "cell_type": "code",
   "execution_count": 12,
   "metadata": {},
   "outputs": [],
   "source": [
    "def get_steam_api_game_response(steamId: str) -> requests.Response:\n",
    "    return get_html_response(steam_api_url, params={'appids': steamId})"
   ]
  },
  {
   "cell_type": "code",
   "execution_count": 13,
   "metadata": {},
   "outputs": [],
   "source": [
    "def delete_if_exists(d: dict, *keys: list) -> dict:\n",
    "    for key in keys:\n",
    "        if d.get(key) is not None:\n",
    "            del d[key]\n",
    "    return d"
   ]
  },
  {
   "cell_type": "code",
   "execution_count": 14,
   "metadata": {},
   "outputs": [],
   "source": [
    "def get_steam_api_game_details(steamId: str) -> dict:\n",
    "    data = cache_json('steam_api_details', steamId, get_steam_api_game_response)\n",
    "    if data.get(steamId) is None or data.get(steamId).get('data') is None:\n",
    "        return {}\n",
    "    data = data[steamId]['data']\n",
    "\n",
    "    if data.get('categories') is not None: # GAME ,,,,, [{id:3, name: ACTION}, {id:5, name:ROUGE_LIKE}]\n",
    "        for category in data['categories']:\n",
    "            data['category.'+str(category['id'])]=True\n",
    "        del data['categories']\n",
    "    \n",
    "    if data.get('genres') is not None:\n",
    "        for genre in data['genres']:\n",
    "            data['genre.'+str(genre['id'])]=True\n",
    "        del data['genres']\n",
    "    \n",
    "    if data.get('developers') is not None:\n",
    "        for developer in data['developers']:\n",
    "            data[f'developer.' + developer.strip().replace(' ', '_')]=True\n",
    "        del data['developers']\n",
    "    \n",
    "    if data.get('publishers') is not None:\n",
    "        for publisher in data['publishers']:\n",
    "            data[f'publisher.' + publisher.strip().replace(' ', '_')]=True\n",
    "        del data['publishers']\n",
    "        \n",
    "    if data.get('supported_languages') is not None: # <strong>*</strong>English<strong>*</strong>, Japanese, Spanish => ['English', 'Japanese', 'Spanish']\n",
    "        for language in data['supported_languages']\\\n",
    "                            .replace('<strong>*</strong>', '')\\\n",
    "                            .replace('<br/>', '')\\\n",
    "                            .replace('<br>', '')\\\n",
    "                            .replace('languages with full audio support', '')\\\n",
    "                            .split(','):\n",
    "            data[f'supported_language.' + language.strip().replace(' ', '_')]=True\n",
    "        del data['supported_languages']\n",
    "\n",
    "    return data"
   ]
  },
  {
   "cell_type": "markdown",
   "metadata": {},
   "source": [
    "<img style=\"width: 50%\" src=\"images/steam_api_response.png\"/>"
   ]
  },
  {
   "cell_type": "code",
   "execution_count": 15,
   "metadata": {},
   "outputs": [],
   "source": [
    "def get_game_dataframe():\n",
    "    soup = get_response_as_beautiful_soup(is_there_any_deal_games_response)\n",
    "    df = DataFrame()\n",
    "    games = soup.select(\"#games > div.game\")\n",
    "    game_dict = dict()\n",
    "    for game in games:\n",
    "        steamId = game.attrs.get('data-steamid')\n",
    "        if steamId is not None:\n",
    "            steamId: str\n",
    "            if 'app' in steamId:\n",
    "                steamId = steamId.split('/')[1] # app/{steamId}\n",
    "                title = game.select(\"div.title > a\")[0].text\n",
    "                history = game.select(\"div.overview.exp.tgl-hide > a:nth-child(5)\")[0].attrs.get('href')\n",
    "                game_details = get_steam_api_game_details(steamId)\n",
    "                if game_details == {}: continue\n",
    "                df = add_game_to_dataframe(df, {'steamId': steamId, 'title': title, 'history_link': is_there_any_deal_url + history, **game_details})\n",
    "    return df"
   ]
  },
  {
   "cell_type": "code",
   "execution_count": 16,
   "metadata": {},
   "outputs": [
    {
     "data": {
      "text/html": [
       "<div>\n",
       "<style scoped>\n",
       "    .dataframe tbody tr th:only-of-type {\n",
       "        vertical-align: middle;\n",
       "    }\n",
       "\n",
       "    .dataframe tbody tr th {\n",
       "        vertical-align: top;\n",
       "    }\n",
       "\n",
       "    .dataframe thead th {\n",
       "        text-align: right;\n",
       "    }\n",
       "</style>\n",
       "<table border=\"1\" class=\"dataframe\">\n",
       "  <thead>\n",
       "    <tr style=\"text-align: right;\">\n",
       "      <th></th>\n",
       "      <th>steamId</th>\n",
       "      <th>title</th>\n",
       "      <th>history_link</th>\n",
       "      <th>type</th>\n",
       "      <th>name</th>\n",
       "      <th>steam_appid</th>\n",
       "      <th>required_age</th>\n",
       "      <th>is_free</th>\n",
       "      <th>controller_support</th>\n",
       "      <th>detailed_description</th>\n",
       "      <th>...</th>\n",
       "      <th>developer.Bungie</th>\n",
       "      <th>developer.Saber_Interactive</th>\n",
       "      <th>developer.Frontier_Developments</th>\n",
       "      <th>publisher.Frontier_Developments</th>\n",
       "      <th>developer.KOEI_TECMO_GAMES_CO.,_LTD.</th>\n",
       "      <th>publisher.KOEI_TECMO_GAMES_CO.,_LTD.</th>\n",
       "      <th>developer.Quantic_Dream</th>\n",
       "      <th>publisher.Quantic_Dream</th>\n",
       "      <th>genre.18</th>\n",
       "      <th>developer.Sports_Interactive</th>\n",
       "    </tr>\n",
       "  </thead>\n",
       "  <tbody>\n",
       "    <tr>\n",
       "      <th>0</th>\n",
       "      <td>1285040</td>\n",
       "      <td>D-Corp</td>\n",
       "      <td>https://isthereanydeal.com/game/dcorp/history/</td>\n",
       "      <td>game</td>\n",
       "      <td>D-Corp</td>\n",
       "      <td>1285040</td>\n",
       "      <td>0</td>\n",
       "      <td>False</td>\n",
       "      <td>full</td>\n",
       "      <td>&lt;h1&gt;Join the Discord community!&lt;/h1&gt;&lt;p&gt;&lt;a href...</td>\n",
       "      <td>...</td>\n",
       "      <td>NaN</td>\n",
       "      <td>NaN</td>\n",
       "      <td>NaN</td>\n",
       "      <td>NaN</td>\n",
       "      <td>NaN</td>\n",
       "      <td>NaN</td>\n",
       "      <td>NaN</td>\n",
       "      <td>NaN</td>\n",
       "      <td>NaN</td>\n",
       "      <td>NaN</td>\n",
       "    </tr>\n",
       "    <tr>\n",
       "      <th>1</th>\n",
       "      <td>1174180</td>\n",
       "      <td>Red Dead Redemption 2</td>\n",
       "      <td>https://isthereanydeal.com/game/reddeadredempt...</td>\n",
       "      <td>game</td>\n",
       "      <td>Red Dead Redemption 2</td>\n",
       "      <td>1174180</td>\n",
       "      <td>17</td>\n",
       "      <td>False</td>\n",
       "      <td>NaN</td>\n",
       "      <td>&lt;h1&gt;Ultimate Edition&lt;/h1&gt;&lt;p&gt;&lt;img src=\"https://...</td>\n",
       "      <td>...</td>\n",
       "      <td>NaN</td>\n",
       "      <td>NaN</td>\n",
       "      <td>NaN</td>\n",
       "      <td>NaN</td>\n",
       "      <td>NaN</td>\n",
       "      <td>NaN</td>\n",
       "      <td>NaN</td>\n",
       "      <td>NaN</td>\n",
       "      <td>NaN</td>\n",
       "      <td>NaN</td>\n",
       "    </tr>\n",
       "    <tr>\n",
       "      <th>2</th>\n",
       "      <td>1151640</td>\n",
       "      <td>Horizon Zero Dawn™ Complete Edition</td>\n",
       "      <td>https://isthereanydeal.com/game/horizonzerodaw...</td>\n",
       "      <td>game</td>\n",
       "      <td>Horizon Zero Dawn™ Complete Edition</td>\n",
       "      <td>1151640</td>\n",
       "      <td>16</td>\n",
       "      <td>False</td>\n",
       "      <td>full</td>\n",
       "      <td>EARTH IS OURS NO MORE&lt;br /&gt;\\r\\n&lt;br /&gt;\\r\\nExper...</td>\n",
       "      <td>...</td>\n",
       "      <td>NaN</td>\n",
       "      <td>NaN</td>\n",
       "      <td>NaN</td>\n",
       "      <td>NaN</td>\n",
       "      <td>NaN</td>\n",
       "      <td>NaN</td>\n",
       "      <td>NaN</td>\n",
       "      <td>NaN</td>\n",
       "      <td>NaN</td>\n",
       "      <td>NaN</td>\n",
       "    </tr>\n",
       "    <tr>\n",
       "      <th>3</th>\n",
       "      <td>753640</td>\n",
       "      <td>Outer Wilds</td>\n",
       "      <td>https://isthereanydeal.com/game/outerwilds/his...</td>\n",
       "      <td>game</td>\n",
       "      <td>Outer Wilds</td>\n",
       "      <td>753640</td>\n",
       "      <td>0</td>\n",
       "      <td>False</td>\n",
       "      <td>full</td>\n",
       "      <td>Winner of Best Game at the 2020 BAFTA Games Aw...</td>\n",
       "      <td>...</td>\n",
       "      <td>NaN</td>\n",
       "      <td>NaN</td>\n",
       "      <td>NaN</td>\n",
       "      <td>NaN</td>\n",
       "      <td>NaN</td>\n",
       "      <td>NaN</td>\n",
       "      <td>NaN</td>\n",
       "      <td>NaN</td>\n",
       "      <td>NaN</td>\n",
       "      <td>NaN</td>\n",
       "    </tr>\n",
       "    <tr>\n",
       "      <th>4</th>\n",
       "      <td>1091500</td>\n",
       "      <td>Cyberpunk 2077</td>\n",
       "      <td>https://isthereanydeal.com/game/cyberpunkii0vi...</td>\n",
       "      <td>game</td>\n",
       "      <td>Cyberpunk 2077</td>\n",
       "      <td>1091500</td>\n",
       "      <td>18</td>\n",
       "      <td>False</td>\n",
       "      <td>NaN</td>\n",
       "      <td>&lt;h1&gt;Check out other games from CD PROJEKT RED&lt;...</td>\n",
       "      <td>...</td>\n",
       "      <td>NaN</td>\n",
       "      <td>NaN</td>\n",
       "      <td>NaN</td>\n",
       "      <td>NaN</td>\n",
       "      <td>NaN</td>\n",
       "      <td>NaN</td>\n",
       "      <td>NaN</td>\n",
       "      <td>NaN</td>\n",
       "      <td>NaN</td>\n",
       "      <td>NaN</td>\n",
       "    </tr>\n",
       "    <tr>\n",
       "      <th>...</th>\n",
       "      <td>...</td>\n",
       "      <td>...</td>\n",
       "      <td>...</td>\n",
       "      <td>...</td>\n",
       "      <td>...</td>\n",
       "      <td>...</td>\n",
       "      <td>...</td>\n",
       "      <td>...</td>\n",
       "      <td>...</td>\n",
       "      <td>...</td>\n",
       "      <td>...</td>\n",
       "      <td>...</td>\n",
       "      <td>...</td>\n",
       "      <td>...</td>\n",
       "      <td>...</td>\n",
       "      <td>...</td>\n",
       "      <td>...</td>\n",
       "      <td>...</td>\n",
       "      <td>...</td>\n",
       "      <td>...</td>\n",
       "      <td>...</td>\n",
       "    </tr>\n",
       "    <tr>\n",
       "      <th>74</th>\n",
       "      <td>976730</td>\n",
       "      <td>Halo: The Master Chief Collection</td>\n",
       "      <td>https://isthereanydeal.com/game/halomasterchie...</td>\n",
       "      <td>game</td>\n",
       "      <td>Halo: The Master Chief Collection</td>\n",
       "      <td>976730</td>\n",
       "      <td>0</td>\n",
       "      <td>False</td>\n",
       "      <td>full</td>\n",
       "      <td>The series that changed console gaming forever...</td>\n",
       "      <td>...</td>\n",
       "      <td>True</td>\n",
       "      <td>True</td>\n",
       "      <td>NaN</td>\n",
       "      <td>NaN</td>\n",
       "      <td>NaN</td>\n",
       "      <td>NaN</td>\n",
       "      <td>NaN</td>\n",
       "      <td>NaN</td>\n",
       "      <td>NaN</td>\n",
       "      <td>NaN</td>\n",
       "    </tr>\n",
       "    <tr>\n",
       "      <th>75</th>\n",
       "      <td>703080</td>\n",
       "      <td>Planet Zoo</td>\n",
       "      <td>https://isthereanydeal.com/game/planetzoo/hist...</td>\n",
       "      <td>game</td>\n",
       "      <td>Planet Zoo</td>\n",
       "      <td>703080</td>\n",
       "      <td>0</td>\n",
       "      <td>False</td>\n",
       "      <td>NaN</td>\n",
       "      <td>&lt;h1&gt;Digital Deluxe Edition&lt;/h1&gt;&lt;p&gt;Planet Zoo D...</td>\n",
       "      <td>...</td>\n",
       "      <td>NaN</td>\n",
       "      <td>NaN</td>\n",
       "      <td>True</td>\n",
       "      <td>True</td>\n",
       "      <td>NaN</td>\n",
       "      <td>NaN</td>\n",
       "      <td>NaN</td>\n",
       "      <td>NaN</td>\n",
       "      <td>NaN</td>\n",
       "      <td>NaN</td>\n",
       "    </tr>\n",
       "    <tr>\n",
       "      <th>76</th>\n",
       "      <td>1325200</td>\n",
       "      <td>Nioh 2 – The Complete Edition</td>\n",
       "      <td>https://isthereanydeal.com/game/niohiicomplete...</td>\n",
       "      <td>game</td>\n",
       "      <td>Nioh 2 – The Complete Edition</td>\n",
       "      <td>1325200</td>\n",
       "      <td>18</td>\n",
       "      <td>False</td>\n",
       "      <td>NaN</td>\n",
       "      <td>&lt;h1&gt;Nioh: Complete Edition&lt;/h1&gt;&lt;p&gt;&lt;a href=\"htt...</td>\n",
       "      <td>...</td>\n",
       "      <td>NaN</td>\n",
       "      <td>NaN</td>\n",
       "      <td>NaN</td>\n",
       "      <td>NaN</td>\n",
       "      <td>True</td>\n",
       "      <td>True</td>\n",
       "      <td>NaN</td>\n",
       "      <td>NaN</td>\n",
       "      <td>NaN</td>\n",
       "      <td>NaN</td>\n",
       "    </tr>\n",
       "    <tr>\n",
       "      <th>77</th>\n",
       "      <td>1222140</td>\n",
       "      <td>Detroit: Become Human</td>\n",
       "      <td>https://isthereanydeal.com/game/detroitbecomeh...</td>\n",
       "      <td>game</td>\n",
       "      <td>Detroit: Become Human</td>\n",
       "      <td>1222140</td>\n",
       "      <td>18</td>\n",
       "      <td>False</td>\n",
       "      <td>full</td>\n",
       "      <td>&lt;img src=\"https://cdn.akamai.steamstatic.com/s...</td>\n",
       "      <td>...</td>\n",
       "      <td>NaN</td>\n",
       "      <td>NaN</td>\n",
       "      <td>NaN</td>\n",
       "      <td>NaN</td>\n",
       "      <td>NaN</td>\n",
       "      <td>NaN</td>\n",
       "      <td>True</td>\n",
       "      <td>True</td>\n",
       "      <td>NaN</td>\n",
       "      <td>NaN</td>\n",
       "    </tr>\n",
       "    <tr>\n",
       "      <th>78</th>\n",
       "      <td>1569040</td>\n",
       "      <td>Football Manager 2022</td>\n",
       "      <td>https://isthereanydeal.com/game/footballmanage...</td>\n",
       "      <td>game</td>\n",
       "      <td>Football Manager 2022</td>\n",
       "      <td>1569040</td>\n",
       "      <td>0</td>\n",
       "      <td>False</td>\n",
       "      <td>NaN</td>\n",
       "      <td>Football isn’t just about being the best and w...</td>\n",
       "      <td>...</td>\n",
       "      <td>NaN</td>\n",
       "      <td>NaN</td>\n",
       "      <td>NaN</td>\n",
       "      <td>NaN</td>\n",
       "      <td>NaN</td>\n",
       "      <td>NaN</td>\n",
       "      <td>NaN</td>\n",
       "      <td>NaN</td>\n",
       "      <td>True</td>\n",
       "      <td>True</td>\n",
       "    </tr>\n",
       "  </tbody>\n",
       "</table>\n",
       "<p>79 rows × 307 columns</p>\n",
       "</div>"
      ],
      "text/plain": [
       "    steamId                                title  \\\n",
       "0   1285040                               D-Corp   \n",
       "1   1174180                Red Dead Redemption 2   \n",
       "2   1151640  Horizon Zero Dawn™ Complete Edition   \n",
       "3    753640                          Outer Wilds   \n",
       "4   1091500                       Cyberpunk 2077   \n",
       "..      ...                                  ...   \n",
       "74   976730    Halo: The Master Chief Collection   \n",
       "75   703080                           Planet Zoo   \n",
       "76  1325200        Nioh 2 – The Complete Edition   \n",
       "77  1222140                Detroit: Become Human   \n",
       "78  1569040                Football Manager 2022   \n",
       "\n",
       "                                         history_link  type  \\\n",
       "0      https://isthereanydeal.com/game/dcorp/history/  game   \n",
       "1   https://isthereanydeal.com/game/reddeadredempt...  game   \n",
       "2   https://isthereanydeal.com/game/horizonzerodaw...  game   \n",
       "3   https://isthereanydeal.com/game/outerwilds/his...  game   \n",
       "4   https://isthereanydeal.com/game/cyberpunkii0vi...  game   \n",
       "..                                                ...   ...   \n",
       "74  https://isthereanydeal.com/game/halomasterchie...  game   \n",
       "75  https://isthereanydeal.com/game/planetzoo/hist...  game   \n",
       "76  https://isthereanydeal.com/game/niohiicomplete...  game   \n",
       "77  https://isthereanydeal.com/game/detroitbecomeh...  game   \n",
       "78  https://isthereanydeal.com/game/footballmanage...  game   \n",
       "\n",
       "                                   name  steam_appid required_age  is_free  \\\n",
       "0                                D-Corp      1285040            0    False   \n",
       "1                 Red Dead Redemption 2      1174180           17    False   \n",
       "2   Horizon Zero Dawn™ Complete Edition      1151640           16    False   \n",
       "3                           Outer Wilds       753640            0    False   \n",
       "4                        Cyberpunk 2077      1091500           18    False   \n",
       "..                                  ...          ...          ...      ...   \n",
       "74    Halo: The Master Chief Collection       976730            0    False   \n",
       "75                           Planet Zoo       703080            0    False   \n",
       "76        Nioh 2 – The Complete Edition      1325200           18    False   \n",
       "77                Detroit: Become Human      1222140           18    False   \n",
       "78                Football Manager 2022      1569040            0    False   \n",
       "\n",
       "   controller_support                               detailed_description  ...  \\\n",
       "0                full  <h1>Join the Discord community!</h1><p><a href...  ...   \n",
       "1                 NaN  <h1>Ultimate Edition</h1><p><img src=\"https://...  ...   \n",
       "2                full  EARTH IS OURS NO MORE<br />\\r\\n<br />\\r\\nExper...  ...   \n",
       "3                full  Winner of Best Game at the 2020 BAFTA Games Aw...  ...   \n",
       "4                 NaN  <h1>Check out other games from CD PROJEKT RED<...  ...   \n",
       "..                ...                                                ...  ...   \n",
       "74               full  The series that changed console gaming forever...  ...   \n",
       "75                NaN  <h1>Digital Deluxe Edition</h1><p>Planet Zoo D...  ...   \n",
       "76                NaN  <h1>Nioh: Complete Edition</h1><p><a href=\"htt...  ...   \n",
       "77               full  <img src=\"https://cdn.akamai.steamstatic.com/s...  ...   \n",
       "78                NaN  Football isn’t just about being the best and w...  ...   \n",
       "\n",
       "   developer.Bungie developer.Saber_Interactive  \\\n",
       "0               NaN                         NaN   \n",
       "1               NaN                         NaN   \n",
       "2               NaN                         NaN   \n",
       "3               NaN                         NaN   \n",
       "4               NaN                         NaN   \n",
       "..              ...                         ...   \n",
       "74             True                        True   \n",
       "75              NaN                         NaN   \n",
       "76              NaN                         NaN   \n",
       "77              NaN                         NaN   \n",
       "78              NaN                         NaN   \n",
       "\n",
       "   developer.Frontier_Developments publisher.Frontier_Developments  \\\n",
       "0                              NaN                             NaN   \n",
       "1                              NaN                             NaN   \n",
       "2                              NaN                             NaN   \n",
       "3                              NaN                             NaN   \n",
       "4                              NaN                             NaN   \n",
       "..                             ...                             ...   \n",
       "74                             NaN                             NaN   \n",
       "75                            True                            True   \n",
       "76                             NaN                             NaN   \n",
       "77                             NaN                             NaN   \n",
       "78                             NaN                             NaN   \n",
       "\n",
       "   developer.KOEI_TECMO_GAMES_CO.,_LTD. publisher.KOEI_TECMO_GAMES_CO.,_LTD.  \\\n",
       "0                                   NaN                                  NaN   \n",
       "1                                   NaN                                  NaN   \n",
       "2                                   NaN                                  NaN   \n",
       "3                                   NaN                                  NaN   \n",
       "4                                   NaN                                  NaN   \n",
       "..                                  ...                                  ...   \n",
       "74                                  NaN                                  NaN   \n",
       "75                                  NaN                                  NaN   \n",
       "76                                 True                                 True   \n",
       "77                                  NaN                                  NaN   \n",
       "78                                  NaN                                  NaN   \n",
       "\n",
       "   developer.Quantic_Dream publisher.Quantic_Dream genre.18  \\\n",
       "0                      NaN                     NaN      NaN   \n",
       "1                      NaN                     NaN      NaN   \n",
       "2                      NaN                     NaN      NaN   \n",
       "3                      NaN                     NaN      NaN   \n",
       "4                      NaN                     NaN      NaN   \n",
       "..                     ...                     ...      ...   \n",
       "74                     NaN                     NaN      NaN   \n",
       "75                     NaN                     NaN      NaN   \n",
       "76                     NaN                     NaN      NaN   \n",
       "77                    True                    True      NaN   \n",
       "78                     NaN                     NaN     True   \n",
       "\n",
       "   developer.Sports_Interactive  \n",
       "0                           NaN  \n",
       "1                           NaN  \n",
       "2                           NaN  \n",
       "3                           NaN  \n",
       "4                           NaN  \n",
       "..                          ...  \n",
       "74                          NaN  \n",
       "75                          NaN  \n",
       "76                          NaN  \n",
       "77                          NaN  \n",
       "78                         True  \n",
       "\n",
       "[79 rows x 307 columns]"
      ]
     },
     "execution_count": 16,
     "metadata": {},
     "output_type": "execute_result"
    }
   ],
   "source": [
    "games_dataframe = get_game_dataframe()\n",
    "games_dataframe.to_csv('games_dataframe.csv')\n",
    "games_dataframe"
   ]
  },
  {
   "cell_type": "code",
   "execution_count": 17,
   "metadata": {},
   "outputs": [],
   "source": [
    "games_dataframe = pd.read_csv('./games_dataframe.csv')"
   ]
  },
  {
   "cell_type": "code",
   "execution_count": 18,
   "metadata": {},
   "outputs": [],
   "source": [
    "def drop_columns(df: DataFrame, columns) -> DataFrame:\n",
    "    return df.drop(columns, axis=1)\n",
    "\n",
    "def use_val(fun):\n",
    "    return lambda col: fun(ast.literal_eval(col)) if type(col) is str else fun(col)\n"
   ]
  },
  {
   "cell_type": "code",
   "execution_count": 19,
   "metadata": {},
   "outputs": [],
   "source": [
    "\n",
    "def map_steam_api_game_data(ndf: DataFrame) -> DataFrame:\n",
    "    df = ndf.copy()\n",
    "    ignored_columns = [\n",
    "        'type',\n",
    "        'name',\n",
    "        'steam_appid',\n",
    "        'detailed_description',\n",
    "        'about_the_game',\n",
    "        'short_description',\n",
    "        # 'fullgame',\n",
    "        'header_image',\n",
    "        'website',\n",
    "        'pc_requirements',\n",
    "        'mac_requirements',\n",
    "        'linux_requirements',\n",
    "        'legal_notice',\n",
    "        'price_overview',\n",
    "        'package_groups',\n",
    "        'screenshots',\n",
    "        'achievements',\n",
    "        'background',\n",
    "        'content_descriptors',\n",
    "        'support_info',\n",
    "        'ext_user_account_notice',\n",
    "        'reviews',\n",
    "        'drm_notice'\n",
    "    ]\n",
    "    df = drop_columns(df, ignored_columns)\n",
    "\n",
    "    for (new_col, col) in (('number_of_demos', 'demos'), ('num_of_game_videos', 'movies'), ('num_of_dlc', 'dlc'), ('num_of_packages_game_is_in', 'packages')):\n",
    "        df[new_col] = df[col].apply(use_val(get_len))\n",
    "        df = drop_columns(df, col)\n",
    "\n",
    "    df['metacritic_score'] = df['metacritic'].apply(use_val(pluckBy('score', lambda score: score / 100)))\n",
    "    df = drop_columns(df, 'metacritic')\n",
    "\n",
    "    for (new_col, col, key) in (('windows_supported', 'platforms', 'windows'), ('mac_supported', 'platforms', 'mac'), ('linux_supported', 'platforms', 'linux')):\n",
    "        df[new_col] = df[col].apply(use_val(pluckBy(key, lambda val: val == True, lambda _: False)))\n",
    "    df = drop_columns(df, 'platforms')\n",
    "    \n",
    "    df['total_steam_recommendations'] = df['recommendations'].apply(use_val(pluck('total')))\n",
    "    df = drop_columns(df, 'recommendations')\n",
    "\n",
    "    df['release_date'] = df['release_date'].apply(use_val(pluckBy('date', parse_datetime)))\n",
    "\n",
    "    for col in filter(lambda c: len(c.split('.')) > 1,df.columns):\n",
    "        df[col].fillna(False, inplace=True)\n",
    "    return df"
   ]
  },
  {
   "cell_type": "code",
   "execution_count": 20,
   "metadata": {},
   "outputs": [],
   "source": [
    "games_dataframe2 = map_steam_api_game_data(games_dataframe)\n",
    "games_dataframe2.to_csv('games_details_data.csv')"
   ]
  },
  {
   "cell_type": "markdown",
   "metadata": {},
   "source": [
    "<h5>Get price history for each game</h5>"
   ]
  },
  {
   "cell_type": "code",
   "execution_count": 21,
   "metadata": {},
   "outputs": [],
   "source": [
    "pounds_to_usd_conversion_rate = 1.34"
   ]
  },
  {
   "cell_type": "code",
   "execution_count": 22,
   "metadata": {},
   "outputs": [],
   "source": [
    "def convert_to_usd(price: str) -> float:\n",
    "    parsed_price = float(re.sub('\\$|\\£|\\s','',price).strip().lstrip())\n",
    "    \n",
    "    if ('£' in price):\n",
    "        parsed_price = parsed_price * pounds_to_usd_conversion_rate\n",
    "\n",
    "    return parsed_price"
   ]
  },
  {
   "cell_type": "code",
   "execution_count": 23,
   "metadata": {},
   "outputs": [],
   "source": [
    "def get_game_history_details(steamId: str, history_link: str) -> DataFrame:\n",
    "    soup = cache_soup('games', steamId, lambda x: get_html_response(history_link))\n",
    "    \n",
    "    df = DataFrame()\n",
    "    vals = soup.select(\"div.lg2.game\")\n",
    "    for val in vals:\n",
    "        dateText = val.select_one(\"span.lg2__time-rel\").attrs['title']\n",
    "        date = datetime.datetime.strptime(dateText, '%a, %d %b %Y %H:%M:%S +0000')\n",
    "        shop_title = val.select_one('.shopTitle').text.strip()\n",
    "        regular_price_text = val.select_one('div:nth-child(2) > span.lg2__price').text\n",
    "        price_now_text = val.select_one('div:nth-child(3) > span.lg2__price').text\n",
    "        regular_price = convert_to_usd(regular_price_text)\n",
    "        price_now = convert_to_usd(price_now_text)\n",
    "\n",
    "        if (regular_price != 0):\n",
    "            price_change_percentage = price_now / regular_price\n",
    "        else:\n",
    "            price_change_percentage = 0\n",
    "        df = df.append(DataFrame([{'record_date': date, 'shop': shop_title, 'regular_price': regular_price, 'price_now': price_now, 'price_change': price_change_percentage}]))\n",
    "    return df\n"
   ]
  },
  {
   "cell_type": "code",
   "execution_count": 24,
   "metadata": {},
   "outputs": [],
   "source": [
    "def get_games_with_history():\n",
    "    games_with_history = DataFrame()\n",
    "    for index, row in games_dataframe2.iterrows():\n",
    "        row_df = DataFrame([row])\n",
    "        game_history_details = get_game_history_details(row['steamId'], row['history_link'])\n",
    "\n",
    "        game_history_details['key'] = 1\n",
    "        row_df['key'] = 1\n",
    "\n",
    "        cross = row_df.merge(game_history_details, how = 'outer')\n",
    "        games_with_history = games_with_history.append(cross)\n",
    "    \n",
    "    games_with_history.dropna(subset=['shop', 'regular_price'], inplace=True)\n",
    "    return games_with_history"
   ]
  },
  {
   "cell_type": "code",
   "execution_count": 25,
   "metadata": {},
   "outputs": [],
   "source": [
    "games_with_history = get_games_with_history()"
   ]
  },
  {
   "cell_type": "code",
   "execution_count": 26,
   "metadata": {},
   "outputs": [],
   "source": [
    "def clean_game_history_details(ndf: DataFrame) -> DataFrame:\n",
    "    df = ndf.copy()\n",
    "    if (df.get('shop') is not None):\n",
    "        df.drop(df[df['shop']=='voidu'].index, inplace=True)\n",
    "        df.drop(df[df['shop']=='Voidu'].index, inplace=True)\n",
    "    if (df.get('regular_price') is not None):\n",
    "        df.drop(df[df['regular_price'] == 0].index, inplace=True)\n",
    "\n",
    "    df['controller_support'].fillna('no', inplace=True)\n",
    "    df.drop(['Unnamed: 0'], axis=1, inplace=True)\n",
    "    df.drop(['key'], axis=1, inplace=True)\n",
    "    return df"
   ]
  },
  {
   "cell_type": "code",
   "execution_count": 27,
   "metadata": {},
   "outputs": [],
   "source": [
    "cleaned_games_with_history = clean_game_history_details(games_with_history)"
   ]
  },
  {
   "cell_type": "code",
   "execution_count": 28,
   "metadata": {},
   "outputs": [],
   "source": [
    "cleaned_games_with_history.to_csv('games_with_history.csv')"
   ]
  },
  {
   "cell_type": "markdown",
   "metadata": {},
   "source": [
    "<h2>Exploratory Data Analysis</h2>"
   ]
  },
  {
   "cell_type": "code",
   "execution_count": 141,
   "metadata": {},
   "outputs": [],
   "source": [
    "pie_chart_size = 10"
   ]
  },
  {
   "cell_type": "markdown",
   "metadata": {},
   "source": [
    "<h5>Functions</h5>"
   ]
  },
  {
   "cell_type": "code",
   "execution_count": 206,
   "metadata": {},
   "outputs": [],
   "source": [
    "def get_frequent_elements(df: DataFrame, col_name: str, num_top_elements: int):\n",
    "    return pd.Series(df[col_name].value_counts()[:num_top_elements].sort_index())\n",
    "\n",
    "def one_dim_plot(sr: pd.Series, plot_type: str, axis: int = None):\n",
    "    return sr.plot(kind=plot_type, ax=axis, autopct='%1.0f%%', pctdistance=1.1, labeldistance=1.2)\n",
    "\n",
    "def plot_scatter(df: DataFrame, x: str, y: str):\n",
    "    return sns.lmplot(x=x,y=y,data=df,fit_reg=True) \n",
    "\n",
    "def plot_line(df: DataFrame, x: str, y: str):\n",
    "    return df.plot.line(x=x, y=y)\n",
    "\n",
    "def plot_frequency(df: DataFrame, col: str, axis=None, num_of_charts=1):\n",
    "    elm = get_frequent_elements(df, col, 5)\n",
    "    plt.rcParams['figure.figsize'] = (pie_chart_size*num_of_charts, pie_chart_size)\n",
    "    if (axis):\n",
    "        one_dim_plot(elm, 'pie', axis)\n",
    "    else:\n",
    "        one_dim_plot(elm, 'pie')\n",
    "\n",
    "def plot_bar_chart(df: DataFrame, sizeX: int = None, sizeY: int = None):\n",
    "    if sizeX and sizeY:\n",
    "        plt.rcParams['figure.figsize'] = (sizeX, sizeY)\n",
    "    return df.plot.bar(rot=0)\n",
    "\n",
    "def plot_pie_remove_duplicates(df: DataFrame, key: str, axis=None, num_of_charts=1):\n",
    "    plot_df = df.copy()\n",
    "\n",
    "    # we need to drop the repeating games (because we want the real average)\n",
    "    plot_df.drop_duplicates(subset=['steamId'], inplace=True)\n",
    "    plot_frequency(plot_df, key, axis=axis, num_of_charts=num_of_charts)\n",
    "\n",
    "\n",
    "# Plot out top 5 publishers\n",
    "# drop duplicate games by steamId\n",
    "# group by publisher\n",
    "# select row from publisher\n",
    "# calculate average price per publisher (sum of regular price divided by the number of games)\n",
    "# present as bar graph\n",
    "def plot_average_per_top_5_publisher(df: DataFrame):\n",
    "    # we need to drop the repeating games (because we want the real average)\n",
    "    plot_df = df.copy().drop_duplicates(subset=['steamId'])\n",
    "\n",
    "    publisher_and_average = dict() # {'publisher.mashu': 33.4, 'publisher.fds': 45.5}\n",
    "    for col in filter(lambda x: str(x).startswith('publisher.'), plot_df.columns):\n",
    "        publisher_games = plot_df[plot_df[col] == True]\n",
    "        num_of_games = len(publisher_games.index)\n",
    "        publisher_and_average[col] = {\n",
    "            'avg': publisher_games.regular_price.mean(),\n",
    "            'games_num': num_of_games\n",
    "        }\n",
    "    \n",
    "    top_5_publishers = OrderedDict(sorted(publisher_and_average.items(), key=lambda item: item[1]['games_num'], reverse=True))\n",
    "    top_5_vals = map(lambda x: x['avg'], list(top_5_publishers.values())[:5])\n",
    "    top_5_keys = map(lambda x: x.split('.')[1].replace('_', ' '), list(top_5_publishers.keys())[:5])\n",
    "    plot_bar_chart(DataFrame(top_5_vals, top_5_keys), sizeX=15, sizeY=5)"
   ]
  },
  {
   "cell_type": "code",
   "execution_count": 207,
   "metadata": {},
   "outputs": [
    {
     "data": {
      "image/png": "[encoded data removed]",
      "text/plain": [
       "<Figure size 720x720 with 1 Axes>"
      ]
     },
     "metadata": {},
     "output_type": "display_data"
    }
   ],
   "source": [
    "plot_pie_remove_duplicates(df=cleaned_games_with_history, key='shop')"
   ]
  },
  {
   "cell_type": "code",
   "execution_count": 208,
   "metadata": {},
   "outputs": [
    {
     "data": {
      "text/plain": [
       "<seaborn.axisgrid.FacetGrid at 0x1e44083b580>"
      ]
     },
     "execution_count": 208,
     "metadata": {},
     "output_type": "execute_result"
    },
    {
     "data": {
      "image/png": "[encoded data removed]",
      "text/plain": [
       "<Figure size 360x360 with 1 Axes>"
      ]
     },
     "metadata": {
      "needs_background": "light"
     },
     "output_type": "display_data"
    }
   ],
   "source": [
    "plot_scatter(cleaned_games_with_history, 'metacritic_score', 'total_steam_recommendations')"
   ]
  },
  {
   "cell_type": "code",
   "execution_count": 209,
   "metadata": {},
   "outputs": [
    {
     "data": {
      "text/plain": [
       "<seaborn.axisgrid.FacetGrid at 0x1e44092c100>"
      ]
     },
     "execution_count": 209,
     "metadata": {},
     "output_type": "execute_result"
    },
    {
     "data": {
      "image/png": "[encoded data removed]",
      "text/plain": [
       "<Figure size 360x360 with 1 Axes>"
      ]
     },
     "metadata": {
      "needs_background": "light"
     },
     "output_type": "display_data"
    }
   ],
   "source": [
    "plot_scatter(cleaned_games_with_history, 'regular_price', 'num_of_dlc')"
   ]
  },
  {
   "cell_type": "code",
   "execution_count": 210,
   "metadata": {},
   "outputs": [
    {
     "data": {
      "image/png": "[encoded data removed]",
      "text/plain": [
       "<Figure size 1080x360 with 1 Axes>"
      ]
     },
     "metadata": {
      "needs_background": "light"
     },
     "output_type": "display_data"
    }
   ],
   "source": [
    "plot_average_per_top_5_publisher(cleaned_games_with_history)"
   ]
  },
  {
   "cell_type": "code",
   "execution_count": 211,
   "metadata": {},
   "outputs": [
    {
     "data": {
      "image/png": "[encoded data removed]",
      "text/plain": [
       "<Figure size 720x720 with 1 Axes>"
      ]
     },
     "metadata": {},
     "output_type": "display_data"
    }
   ],
   "source": [
    "plot_pie_remove_duplicates(cleaned_games_with_history, 'controller_support')"
   ]
  },
  {
   "cell_type": "code",
   "execution_count": 213,
   "metadata": {},
   "outputs": [
    {
     "data": {
      "image/png": "[encoded data removed]",
      "text/plain": [
       "<Figure size 2160x720 with 3 Axes>"
      ]
     },
     "metadata": {},
     "output_type": "display_data"
    }
   ],
   "source": [
    "fig, (ax1, ax2, ax3) = plt.pyplot.subplots(1, 3)\n",
    "fig.suptitle('Vertically stacked subplots')\n",
    "fig.set_size_inches(pie_chart_size*3, pie_chart_size)\n",
    "\n",
    "plot_pie_remove_duplicates(cleaned_games_with_history, 'windows_supported', ax1, num_of_charts=3)\n",
    "plot_pie_remove_duplicates(cleaned_games_with_history, 'mac_supported', ax2, num_of_charts=3)\n",
    "plot_pie_remove_duplicates(cleaned_games_with_history, 'linux_supported', ax3, num_of_charts=3)"
   ]
  },
  {
   "cell_type": "markdown",
   "metadata": {},
   "source": [
    "<h3>Used Resources</h3>\n",
    "<dl>\n",
    "    <dt>Scraping</dt>\n",
    "    <dd>\n",
    "        <a href=\"https://isthereanydeal.com/game/reddeadredemptionii/info/\">\n",
    "            <b>Is-There-Any-Deal website</b> For scraping cost history and more financial details\n",
    "        </a>\n",
    "    </dd>\n",
    "    <dd>\n",
    "        <a href=\"https://www.geeksforgeeks.org/web-scraping-without-getting-blocked/\">\n",
    "            <b>Using Proxies to avoiding getting blocked</b>\n",
    "        </a>\n",
    "    </dd>\n",
    "    <dd>\n",
    "        <a href=\"https://wiki.teamfortress.com/wiki/User:RJackson/StorefrontAPI#App_info\">\n",
    "            <b>Steam StoreFront API</b> Limited to 100,000 requests per day, and no more than 10 per second\n",
    "        </a>\n",
    "    </dd>\n",
    "    <dd>\n",
    "        <a href=\"https://store.steampowered.com/api/appdetails\">Steam API for Game Metadata - https://store.steampowered.com/api/appdetails?appids=1091500</a>\n",
    "    </dd>\n",
    "    <dd><a href=\"https://www.programiz.com/python-programming/json\">Using json serialization and parsing</a></dd>\n",
    "    <dt>EDA</dt>\n",
    "    <dd><a href=\"https://seaborn.pydata.org\">Seaborn Documentation</a></dd>\n",
    "    <dt>\n",
    "        Stack Overflow\n",
    "    </dt>\n",
    "    <dd><a href=\"https://stackoverflow.com/questions/613183/how-do-i-sort-a-dictionary-by-value\">Sort dictionary by value</a></dd>\n",
    "    <dd><a href=\"https://stackoverflow.com/questions/332289/how-do-you-change-the-size-of-figures-drawn-with-matplotlib\">Set Figure size</a></dd>\n",
    "    \n",
    "</dl>\n"
   ]
  },
  {
   "cell_type": "markdown",
   "metadata": {},
   "source": []
  },
  {
   "cell_type": "markdown",
   "metadata": {},
   "source": [
    "\n",
    "\n",
    "\n",
    "\n",
    "\n",
    "\n"
   ]
  }
 ],
 "metadata": {
  "interpreter": {
   "hash": "79d14381c615de0483739fde38a1fe3340d940b640c68fad7128c060c0741248"
  },
  "kernelspec": {
   "display_name": "Python 3.8.10 64-bit (windows store)",
   "language": "python",
   "name": "python3"
  },
  "language_info": {
   "codemirror_mode": {
    "name": "ipython",
    "version": 3
   },
   "file_extension": ".py",
   "mimetype": "text/x-python",
   "name": "python",
   "nbconvert_exporter": "python",
   "pygments_lexer": "ipython3",
   "version": "3.8.10"
  },
  "orig_nbformat": 4
 },
 "nbformat": 4,
 "nbformat_minor": 2
}
